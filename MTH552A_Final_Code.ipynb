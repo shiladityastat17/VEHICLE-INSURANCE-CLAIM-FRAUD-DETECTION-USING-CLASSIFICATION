{
 "cells": [
  {
   "cell_type": "markdown",
   "id": "152e2659",
   "metadata": {},
   "source": [
    "# VEHICLE INSURANCE CLAIM FRAUD DETECTION USING CLASSIFICATION"
   ]
  },
  {
   "cell_type": "markdown",
   "id": "f4708545",
   "metadata": {},
   "source": [
    "<a name=\"1\"></a>\n",
    "### INTRODUCTION\n",
    "$\\textbf{INSURANCE FRAUD}$ has accompanied insurance since its inception, but the\n",
    "manner in which these practices and their methods of operation have\n",
    "evolved over time, and the volume and frequency of insurance fraud\n",
    "incidents have recently increased. Vehicle insurance fraud involves\n",
    "conspiring to make false or exaggerated claims involving property\n",
    "damage or personal injuries following an accident. Some common\n",
    "examples include staged accidents where fraudsters deliberately\n",
    "“arrange” for accidents to occur; the use of phantom passengers, where\n",
    "people who were not even at the scene of the accident claim to have\n",
    "suffered grievous injury, and making false personal injury claims where\n",
    "personal injuries are grossly exaggerated.\n",
    "\n",
    "<a name=\"2\"></a>\n",
    "### OBJECTIVE\n",
    "Our $\\textbf{OBJECTIVE}$ of this project is focusing on detecting vehicle fraud\n",
    "by using machine learning algorithms, and also the final analysis and\n",
    "conclusion based on performance of the different $\\textbf{CLASSIFICATION\n",
    "ALGORITHMS}$ like $\\textbf{LINEAR DISCRIMINANT ANALYSIS}$, $\\textbf{RANDOM FOREST}$,\n",
    "$\\textbf{DECISION TREE}$ and $\\textbf{K-NEAREST NEIGHBOUR(KNN)}$ in terms of greater accuracy\n",
    "in predicting the fraud."
   ]
  },
  {
   "cell_type": "code",
   "execution_count": 229,
   "id": "c979a47e",
   "metadata": {},
   "outputs": [],
   "source": [
    "#Import Libraries\n",
    "import numpy as np\n",
    "import pandas as pd\n",
    "import seaborn as sns\n",
    "import requests\n",
    "import io\n",
    "import matplotlib.pyplot as plt\n",
    "%matplotlib inline\n",
    "import time\n",
    "import scipy.stats as stats\n",
    "# import packages for hyperparameters tuning\n",
    "from sklearn.tree import DecisionTreeClassifier\n",
    "from sklearn.tree import plot_tree\n",
    "from sklearn.preprocessing import OrdinalEncoder\n",
    "from sklearn.linear_model import LogisticRegression\n",
    "from sklearn.ensemble import RandomForestClassifier\n",
    "from sklearn.preprocessing import StandardScaler\n",
    "import statsmodels.api as sm\n",
    "from sklearn.discriminant_analysis import LinearDiscriminantAnalysis\n",
    "from sklearn.model_selection import train_test_split\n",
    "from sklearn.model_selection import cross_val_score\n",
    "from sklearn.model_selection import cross_validate\n",
    "from sklearn.model_selection import RepeatedStratifiedKFold\n",
    "from sklearn.model_selection import GridSearchCV\n",
    "from sklearn import metrics"
   ]
  },
  {
   "cell_type": "code",
   "execution_count": 210,
   "id": "b9888052",
   "metadata": {},
   "outputs": [
    {
     "data": {
      "text/html": [
       "<div>\n",
       "<style scoped>\n",
       "    .dataframe tbody tr th:only-of-type {\n",
       "        vertical-align: middle;\n",
       "    }\n",
       "\n",
       "    .dataframe tbody tr th {\n",
       "        vertical-align: top;\n",
       "    }\n",
       "\n",
       "    .dataframe thead th {\n",
       "        text-align: right;\n",
       "    }\n",
       "</style>\n",
       "<table border=\"1\" class=\"dataframe\">\n",
       "  <thead>\n",
       "    <tr style=\"text-align: right;\">\n",
       "      <th></th>\n",
       "      <th>WeekOfMonth</th>\n",
       "      <th>AccidentArea</th>\n",
       "      <th>WeekOfMonthClaimed</th>\n",
       "      <th>Sex</th>\n",
       "      <th>MaritalStatus</th>\n",
       "      <th>Age</th>\n",
       "      <th>Fault</th>\n",
       "      <th>PolicyType</th>\n",
       "      <th>VehicleCategory</th>\n",
       "      <th>VehiclePrice</th>\n",
       "      <th>...</th>\n",
       "      <th>AgeOfPolicyHolder</th>\n",
       "      <th>PoliceReportFiled</th>\n",
       "      <th>WitnessPresent</th>\n",
       "      <th>AgentType</th>\n",
       "      <th>NumberOfSuppliments</th>\n",
       "      <th>AddressChange_Claim</th>\n",
       "      <th>NumberOfCars</th>\n",
       "      <th>Year</th>\n",
       "      <th>BasePolicy</th>\n",
       "      <th>ClaimSize</th>\n",
       "    </tr>\n",
       "  </thead>\n",
       "  <tbody>\n",
       "    <tr>\n",
       "      <th>0</th>\n",
       "      <td>5</td>\n",
       "      <td>Urban</td>\n",
       "      <td>1</td>\n",
       "      <td>Female</td>\n",
       "      <td>Single</td>\n",
       "      <td>21.0</td>\n",
       "      <td>Policy Holder</td>\n",
       "      <td>Sport - Liability</td>\n",
       "      <td>Sport</td>\n",
       "      <td>more than 69000</td>\n",
       "      <td>...</td>\n",
       "      <td>26 to 30</td>\n",
       "      <td>No</td>\n",
       "      <td>No</td>\n",
       "      <td>External</td>\n",
       "      <td>none</td>\n",
       "      <td>1 year</td>\n",
       "      <td>3 to 4</td>\n",
       "      <td>1994</td>\n",
       "      <td>Liability</td>\n",
       "      <td>55526.069420</td>\n",
       "    </tr>\n",
       "    <tr>\n",
       "      <th>1</th>\n",
       "      <td>3</td>\n",
       "      <td>Urban</td>\n",
       "      <td>4</td>\n",
       "      <td>Male</td>\n",
       "      <td>Single</td>\n",
       "      <td>34.0</td>\n",
       "      <td>Policy Holder</td>\n",
       "      <td>Sport - Collision</td>\n",
       "      <td>Sport</td>\n",
       "      <td>more than 69000</td>\n",
       "      <td>...</td>\n",
       "      <td>31 to 35</td>\n",
       "      <td>Yes</td>\n",
       "      <td>No</td>\n",
       "      <td>External</td>\n",
       "      <td>none</td>\n",
       "      <td>no change</td>\n",
       "      <td>1 vehicle</td>\n",
       "      <td>1994</td>\n",
       "      <td>Collision</td>\n",
       "      <td>59294.455570</td>\n",
       "    </tr>\n",
       "    <tr>\n",
       "      <th>2</th>\n",
       "      <td>5</td>\n",
       "      <td>Urban</td>\n",
       "      <td>2</td>\n",
       "      <td>Male</td>\n",
       "      <td>Married</td>\n",
       "      <td>47.0</td>\n",
       "      <td>Policy Holder</td>\n",
       "      <td>Sport - Collision</td>\n",
       "      <td>Sport</td>\n",
       "      <td>more than 69000</td>\n",
       "      <td>...</td>\n",
       "      <td>41 to 50</td>\n",
       "      <td>No</td>\n",
       "      <td>No</td>\n",
       "      <td>External</td>\n",
       "      <td>none</td>\n",
       "      <td>no change</td>\n",
       "      <td>1 vehicle</td>\n",
       "      <td>1994</td>\n",
       "      <td>Collision</td>\n",
       "      <td>71756.941320</td>\n",
       "    </tr>\n",
       "    <tr>\n",
       "      <th>3</th>\n",
       "      <td>2</td>\n",
       "      <td>Rural</td>\n",
       "      <td>1</td>\n",
       "      <td>Male</td>\n",
       "      <td>Married</td>\n",
       "      <td>65.0</td>\n",
       "      <td>Third Party</td>\n",
       "      <td>Sedan - Liability</td>\n",
       "      <td>Sport</td>\n",
       "      <td>20000 to 29000</td>\n",
       "      <td>...</td>\n",
       "      <td>51 to 65</td>\n",
       "      <td>Yes</td>\n",
       "      <td>No</td>\n",
       "      <td>External</td>\n",
       "      <td>more than 5</td>\n",
       "      <td>no change</td>\n",
       "      <td>1 vehicle</td>\n",
       "      <td>1994</td>\n",
       "      <td>Liability</td>\n",
       "      <td>7584.153493</td>\n",
       "    </tr>\n",
       "    <tr>\n",
       "      <th>4</th>\n",
       "      <td>1</td>\n",
       "      <td>Urban</td>\n",
       "      <td>3</td>\n",
       "      <td>Male</td>\n",
       "      <td>Married</td>\n",
       "      <td>36.0</td>\n",
       "      <td>Third Party</td>\n",
       "      <td>Sport - Collision</td>\n",
       "      <td>Sport</td>\n",
       "      <td>more than 69000</td>\n",
       "      <td>...</td>\n",
       "      <td>36 to 40</td>\n",
       "      <td>No</td>\n",
       "      <td>No</td>\n",
       "      <td>External</td>\n",
       "      <td>1 to 2</td>\n",
       "      <td>no change</td>\n",
       "      <td>1 vehicle</td>\n",
       "      <td>1994</td>\n",
       "      <td>Collision</td>\n",
       "      <td>98545.374340</td>\n",
       "    </tr>\n",
       "  </tbody>\n",
       "</table>\n",
       "<p>5 rows × 27 columns</p>\n",
       "</div>"
      ],
      "text/plain": [
       "   WeekOfMonth AccidentArea  WeekOfMonthClaimed     Sex MaritalStatus   Age  \\\n",
       "0            5        Urban                   1  Female        Single  21.0   \n",
       "1            3        Urban                   4    Male        Single  34.0   \n",
       "2            5        Urban                   2    Male       Married  47.0   \n",
       "3            2        Rural                   1    Male       Married  65.0   \n",
       "4            1        Urban                   3    Male       Married  36.0   \n",
       "\n",
       "           Fault         PolicyType VehicleCategory     VehiclePrice  ...  \\\n",
       "0  Policy Holder  Sport - Liability           Sport  more than 69000  ...   \n",
       "1  Policy Holder  Sport - Collision           Sport  more than 69000  ...   \n",
       "2  Policy Holder  Sport - Collision           Sport  more than 69000  ...   \n",
       "3    Third Party  Sedan - Liability           Sport   20000 to 29000  ...   \n",
       "4    Third Party  Sport - Collision           Sport  more than 69000  ...   \n",
       "\n",
       "   AgeOfPolicyHolder  PoliceReportFiled  WitnessPresent AgentType  \\\n",
       "0           26 to 30                 No              No  External   \n",
       "1           31 to 35                Yes              No  External   \n",
       "2           41 to 50                 No              No  External   \n",
       "3           51 to 65                Yes              No  External   \n",
       "4           36 to 40                 No              No  External   \n",
       "\n",
       "  NumberOfSuppliments AddressChange_Claim NumberOfCars  Year BasePolicy  \\\n",
       "0                none              1 year       3 to 4  1994  Liability   \n",
       "1                none           no change    1 vehicle  1994  Collision   \n",
       "2                none           no change    1 vehicle  1994  Collision   \n",
       "3         more than 5           no change    1 vehicle  1994  Liability   \n",
       "4              1 to 2           no change    1 vehicle  1994  Collision   \n",
       "\n",
       "      ClaimSize  \n",
       "0  55526.069420  \n",
       "1  59294.455570  \n",
       "2  71756.941320  \n",
       "3   7584.153493  \n",
       "4  98545.374340  \n",
       "\n",
       "[5 rows x 27 columns]"
      ]
     },
     "execution_count": 210,
     "metadata": {},
     "output_type": "execute_result"
    }
   ],
   "source": [
    "#iMPORT DATASET\n",
    "df=pd.read_csv(\"Car_Insurance_Claim_Fraud_Detection_Dataset.csv\")\n",
    "df=df.drop([\"Month\",'DayOfWeek',\"DayOfWeekClaimed\",'Make','MonthClaimed',\"PolicyNumber\",'RepNumber'],axis=1)\n",
    "df.head()"
   ]
  },
  {
   "cell_type": "markdown",
   "id": "77c48a60",
   "metadata": {},
   "source": [
    "<a name=\"1\"></a>\n",
    "### DATA DESCRIPTION\n",
    "In our data There are 27 variables, The variables are,"
   ]
  },
  {
   "cell_type": "code",
   "execution_count": 211,
   "id": "8b638ee2",
   "metadata": {},
   "outputs": [
    {
     "data": {
      "text/plain": [
       "Index(['WeekOfMonth', 'AccidentArea', 'WeekOfMonthClaimed', 'Sex',\n",
       "       'MaritalStatus', 'Age', 'Fault', 'PolicyType', 'VehicleCategory',\n",
       "       'VehiclePrice', 'FraudFound_P', 'Deductible', 'DriverRating',\n",
       "       'Days_Policy_Accident', 'Days_Policy_Claim', 'PastNumberOfClaims',\n",
       "       'AgeOfVehicle', 'AgeOfPolicyHolder', 'PoliceReportFiled',\n",
       "       'WitnessPresent', 'AgentType', 'NumberOfSuppliments',\n",
       "       'AddressChange_Claim', 'NumberOfCars', 'Year', 'BasePolicy',\n",
       "       'ClaimSize'],\n",
       "      dtype='object')"
      ]
     },
     "execution_count": 211,
     "metadata": {},
     "output_type": "execute_result"
    }
   ],
   "source": [
    "df.columns"
   ]
  },
  {
   "cell_type": "markdown",
   "id": "f1fb5f48",
   "metadata": {},
   "source": [
    "<a name=\"1\"></a>\n",
    "Here, we have total $\\textbf{11565}$ $\\textbf{DATA POINTS}$, $\\textbf{26}$ $\\textbf{EXPLANATORY}$ variables and $\\textbf{1}$\n",
    "$\\textbf{RESPONSE}$ variables. Here $\\textbf{FRAUD FOUND_P}$ is consider as $\\textbf{RESPONSE}$\n",
    "variable.$\\\\$\n",
    "Out of $\\textbf{26}$ $\\textbf{EXPLANATORY}$  variables, we have $\\textbf{2}$ $\\textbf{NUMERIC}$ variables namely\n",
    "$\\textbf{“AGE”}$ and $\\textbf{\"CLAIM SIZE\"}$ and rest $\\textbf{24}$’s are $\\textbf{CATEGORICAL}$ variables."
   ]
  },
  {
   "cell_type": "markdown",
   "id": "9a9f85a7",
   "metadata": {},
   "source": [
    "## DATA CLEANING"
   ]
  },
  {
   "cell_type": "markdown",
   "id": "a81beed4",
   "metadata": {},
   "source": [
    "### 1)CHECKING FOR MISSING VALUES\n",
    "Before carrying out any further analysis of our dataset, we want to check if our dataset\n",
    "contains any missing values or not."
   ]
  },
  {
   "cell_type": "code",
   "execution_count": 212,
   "id": "fcc98d23",
   "metadata": {},
   "outputs": [
    {
     "data": {
      "text/plain": [
       "WeekOfMonth             0\n",
       "AccidentArea            0\n",
       "WeekOfMonthClaimed      0\n",
       "Sex                     0\n",
       "MaritalStatus           0\n",
       "Age                     5\n",
       "Fault                   0\n",
       "PolicyType              0\n",
       "VehicleCategory         0\n",
       "VehiclePrice            0\n",
       "FraudFound_P            0\n",
       "Deductible              0\n",
       "DriverRating            6\n",
       "Days_Policy_Accident    0\n",
       "Days_Policy_Claim       0\n",
       "PastNumberOfClaims      0\n",
       "AgeOfVehicle            0\n",
       "AgeOfPolicyHolder       0\n",
       "PoliceReportFiled       0\n",
       "WitnessPresent          0\n",
       "AgentType               0\n",
       "NumberOfSuppliments     0\n",
       "AddressChange_Claim     0\n",
       "NumberOfCars            0\n",
       "Year                    0\n",
       "BasePolicy              0\n",
       "ClaimSize               0\n",
       "dtype: int64"
      ]
     },
     "execution_count": 212,
     "metadata": {},
     "output_type": "execute_result"
    }
   ],
   "source": [
    "df.isna().sum()"
   ]
  },
  {
   "cell_type": "markdown",
   "id": "0db6cbe0",
   "metadata": {},
   "source": [
    "So, our dataset contains $\\textbf{5}$ missing values for the column $\\textbf{“AGE”}$ and $\\textbf{6}$ missing values for the\n",
    "column $\\textbf{“DRIVERRATING”}$.\n",
    "We found out that, there are total $\\textbf{11}$ $\\textbf{ROWS}$ for which we have a missing value. This qualnity is very small respect to our whole dataset. $\\\\$ So,\n",
    "We $\\textbf{DROP}$ those rows from our dataset consisting of 11565 rows, and finally obtain a dataset\n",
    "with $\\textbf{11554}$ rows containing no missing values."
   ]
  },
  {
   "cell_type": "code",
   "execution_count": 213,
   "id": "e4dfdabe",
   "metadata": {},
   "outputs": [
    {
     "data": {
      "text/plain": [
       "WeekOfMonth             0\n",
       "AccidentArea            0\n",
       "WeekOfMonthClaimed      0\n",
       "Sex                     0\n",
       "MaritalStatus           0\n",
       "Age                     0\n",
       "Fault                   0\n",
       "PolicyType              0\n",
       "VehicleCategory         0\n",
       "VehiclePrice            0\n",
       "FraudFound_P            0\n",
       "Deductible              0\n",
       "DriverRating            0\n",
       "Days_Policy_Accident    0\n",
       "Days_Policy_Claim       0\n",
       "PastNumberOfClaims      0\n",
       "AgeOfVehicle            0\n",
       "AgeOfPolicyHolder       0\n",
       "PoliceReportFiled       0\n",
       "WitnessPresent          0\n",
       "AgentType               0\n",
       "NumberOfSuppliments     0\n",
       "AddressChange_Claim     0\n",
       "NumberOfCars            0\n",
       "Year                    0\n",
       "BasePolicy              0\n",
       "ClaimSize               0\n",
       "dtype: int64"
      ]
     },
     "execution_count": 213,
     "metadata": {},
     "output_type": "execute_result"
    }
   ],
   "source": [
    "#Dropping Missing values \n",
    "df=df.dropna()\n",
    "df.isna().sum()"
   ]
  },
  {
   "cell_type": "markdown",
   "id": "6a1255dd",
   "metadata": {},
   "source": [
    "So, now our data is $\\textbf{FREE}$ from $\\textbf{MISSING}$ values."
   ]
  },
  {
   "cell_type": "markdown",
   "id": "2970ea09",
   "metadata": {},
   "source": [
    "### 2)DUPLICATE VALUE CHECK"
   ]
  },
  {
   "cell_type": "code",
   "execution_count": 214,
   "id": "496f4ecc",
   "metadata": {},
   "outputs": [
    {
     "name": "stdout",
     "output_type": "stream",
     "text": [
      "True\n"
     ]
    }
   ],
   "source": [
    "print(len(df.drop_duplicates())==len(df))"
   ]
  },
  {
   "cell_type": "markdown",
   "id": "e4ff3bc8",
   "metadata": {},
   "source": [
    "Since, the length of the dataset after dropping the $\\textbf{DUPLICATES}$ is $\\textbf{SAME}$ as the length of the\n",
    "original dataset, so we can conclude that our dataset does $\\textbf{NOT}$ contain any duplicate values."
   ]
  },
  {
   "cell_type": "markdown",
   "id": "1949b248",
   "metadata": {},
   "source": [
    "So, now our data is $\\textbf{CLEAN}$ & ready for furthur analysis."
   ]
  },
  {
   "cell_type": "markdown",
   "id": "42222c1b",
   "metadata": {},
   "source": [
    "## DIMENSION OF DATASET"
   ]
  },
  {
   "cell_type": "code",
   "execution_count": 215,
   "id": "f91bef06",
   "metadata": {},
   "outputs": [
    {
     "data": {
      "text/plain": [
       "(11554, 27)"
      ]
     },
     "execution_count": 215,
     "metadata": {},
     "output_type": "execute_result"
    }
   ],
   "source": [
    "#Dimension of our data\n",
    "df.shape"
   ]
  },
  {
   "cell_type": "markdown",
   "id": "1cca2b72",
   "metadata": {},
   "source": [
    "## DATA TYPES"
   ]
  },
  {
   "cell_type": "code",
   "execution_count": 216,
   "id": "4e97c9cd",
   "metadata": {},
   "outputs": [
    {
     "name": "stdout",
     "output_type": "stream",
     "text": [
      "<class 'pandas.core.frame.DataFrame'>\n",
      "Int64Index: 11554 entries, 0 to 11564\n",
      "Data columns (total 27 columns):\n",
      " #   Column                Non-Null Count  Dtype  \n",
      "---  ------                --------------  -----  \n",
      " 0   WeekOfMonth           11554 non-null  int64  \n",
      " 1   AccidentArea          11554 non-null  object \n",
      " 2   WeekOfMonthClaimed    11554 non-null  int64  \n",
      " 3   Sex                   11554 non-null  object \n",
      " 4   MaritalStatus         11554 non-null  object \n",
      " 5   Age                   11554 non-null  float64\n",
      " 6   Fault                 11554 non-null  object \n",
      " 7   PolicyType            11554 non-null  object \n",
      " 8   VehicleCategory       11554 non-null  object \n",
      " 9   VehiclePrice          11554 non-null  object \n",
      " 10  FraudFound_P          11554 non-null  int64  \n",
      " 11  Deductible            11554 non-null  int64  \n",
      " 12  DriverRating          11554 non-null  float64\n",
      " 13  Days_Policy_Accident  11554 non-null  object \n",
      " 14  Days_Policy_Claim     11554 non-null  object \n",
      " 15  PastNumberOfClaims    11554 non-null  object \n",
      " 16  AgeOfVehicle          11554 non-null  object \n",
      " 17  AgeOfPolicyHolder     11554 non-null  object \n",
      " 18  PoliceReportFiled     11554 non-null  object \n",
      " 19  WitnessPresent        11554 non-null  object \n",
      " 20  AgentType             11554 non-null  object \n",
      " 21  NumberOfSuppliments   11554 non-null  object \n",
      " 22  AddressChange_Claim   11554 non-null  object \n",
      " 23  NumberOfCars          11554 non-null  object \n",
      " 24  Year                  11554 non-null  int64  \n",
      " 25  BasePolicy            11554 non-null  object \n",
      " 26  ClaimSize             11554 non-null  float64\n",
      "dtypes: float64(3), int64(5), object(19)\n",
      "memory usage: 2.5+ MB\n"
     ]
    }
   ],
   "source": [
    "df.info()"
   ]
  },
  {
   "cell_type": "markdown",
   "id": "26819cdf",
   "metadata": {},
   "source": [
    "## CATEGORICAL COLUMNS"
   ]
  },
  {
   "cell_type": "code",
   "execution_count": 217,
   "id": "d015a730",
   "metadata": {},
   "outputs": [
    {
     "data": {
      "text/plain": [
       "['AccidentArea',\n",
       " 'Sex',\n",
       " 'MaritalStatus',\n",
       " 'Fault',\n",
       " 'PolicyType',\n",
       " 'VehicleCategory',\n",
       " 'VehiclePrice',\n",
       " 'Days_Policy_Accident',\n",
       " 'Days_Policy_Claim',\n",
       " 'PastNumberOfClaims',\n",
       " 'AgeOfVehicle',\n",
       " 'AgeOfPolicyHolder',\n",
       " 'PoliceReportFiled',\n",
       " 'WitnessPresent',\n",
       " 'AgentType',\n",
       " 'NumberOfSuppliments',\n",
       " 'AddressChange_Claim',\n",
       " 'NumberOfCars',\n",
       " 'BasePolicy']"
      ]
     },
     "execution_count": 217,
     "metadata": {},
     "output_type": "execute_result"
    }
   ],
   "source": [
    "cat_cols = [col for col in df.columns if col not in df.describe().columns]\n",
    "cat_cols"
   ]
  },
  {
   "cell_type": "code",
   "execution_count": 218,
   "id": "7d56ac32",
   "metadata": {},
   "outputs": [
    {
     "data": {
      "text/plain": [
       "0    10869\n",
       "1      685\n",
       "Name: FraudFound_P, dtype: int64"
      ]
     },
     "execution_count": 218,
     "metadata": {},
     "output_type": "execute_result"
    }
   ],
   "source": [
    "df[\"FraudFound_P\"].value_counts()"
   ]
  },
  {
   "cell_type": "markdown",
   "id": "414838c2",
   "metadata": {},
   "source": [
    "## EDA"
   ]
  },
  {
   "cell_type": "code",
   "execution_count": 169,
   "id": "c4e17a37",
   "metadata": {},
   "outputs": [
    {
     "data": {
      "image/png": "[encoded data removed]",
      "text/plain": [
       "<Figure size 936x432 with 1 Axes>"
      ]
     },
     "metadata": {
      "needs_background": "light"
     },
     "output_type": "display_data"
    }
   ],
   "source": [
    "plt.figure(figsize = (13,6))\n",
    "sns.countplot( x= df['WeekOfMonth'], hue = 'FraudFound_P', data = df)\n",
    "plt.xlabel('WeekOfMonth')\n",
    "plt.ylabel('Frequency')\n",
    "plt.show()"
   ]
  },
  {
   "cell_type": "code",
   "execution_count": 146,
   "id": "0f2e52ec",
   "metadata": {},
   "outputs": [
    {
     "data": {
      "image/png": "[encoded data removed]",
      "text/plain": [
       "<Figure size 936x432 with 1 Axes>"
      ]
     },
     "metadata": {
      "needs_background": "light"
     },
     "output_type": "display_data"
    }
   ],
   "source": [
    "plt.figure(figsize = (13,6))\n",
    "sns.countplot( x= df['AccidentArea'], hue = 'FraudFound_P', data = df)\n",
    "plt.xlabel('AccidentArea')\n",
    "plt.ylabel('Frequency')\n",
    "plt.show()"
   ]
  },
  {
   "cell_type": "code",
   "execution_count": 147,
   "id": "e26bd2c4",
   "metadata": {},
   "outputs": [
    {
     "data": {
      "image/png": "[encoded data removed]",
      "text/plain": [
       "<Figure size 936x432 with 1 Axes>"
      ]
     },
     "metadata": {
      "needs_background": "light"
     },
     "output_type": "display_data"
    }
   ],
   "source": [
    "plt.figure(figsize = (13,6))\n",
    "sns.countplot( x= df['WeekOfMonthClaimed'], hue = 'FraudFound_P', data = df)\n",
    "plt.xlabel('WeekOfMonthClaimed')\n",
    "plt.ylabel('Frequency')\n",
    "plt.show()"
   ]
  },
  {
   "cell_type": "code",
   "execution_count": 90,
   "id": "00005342",
   "metadata": {},
   "outputs": [
    {
     "data": {
      "image/png": "[encoded data removed]",
      "text/plain": [
       "<Figure size 936x432 with 1 Axes>"
      ]
     },
     "metadata": {
      "needs_background": "light"
     },
     "output_type": "display_data"
    }
   ],
   "source": [
    "plt.figure(figsize = (13,6))\n",
    "sns.countplot( x= df['Sex'], hue = 'FraudFound_P', data = df)\n",
    "plt.xlabel('Sex')\n",
    "plt.ylabel('Frequency')\n",
    "plt.show()"
   ]
  },
  {
   "cell_type": "code",
   "execution_count": 91,
   "id": "a15296fb",
   "metadata": {},
   "outputs": [
    {
     "data": {
      "image/png": "[encoded data removed]",
      "text/plain": [
       "<Figure size 936x432 with 1 Axes>"
      ]
     },
     "metadata": {
      "needs_background": "light"
     },
     "output_type": "display_data"
    }
   ],
   "source": [
    "plt.figure(figsize = (13,6))\n",
    "sns.countplot( x= df_1['MaritalStatus'], hue = 'FraudFound_P', data = df_1)\n",
    "plt.xlabel('MaritalStatus')\n",
    "plt.ylabel('Frequency')\n",
    "plt.show()"
   ]
  },
  {
   "cell_type": "code",
   "execution_count": 97,
   "id": "c07b9984",
   "metadata": {},
   "outputs": [
    {
     "data": {
      "image/png": "[encoded data removed]",
      "text/plain": [
       "<Figure size 936x432 with 1 Axes>"
      ]
     },
     "metadata": {
      "needs_background": "light"
     },
     "output_type": "display_data"
    }
   ],
   "source": [
    "plt.figure(figsize = (13,6))\n",
    "sns.countplot( x= df['Fault'], hue = 'FraudFound_P', data = df)\n",
    "plt.xlabel('Fault')\n",
    "plt.ylabel('Frequency')\n",
    "plt.show()"
   ]
  },
  {
   "cell_type": "code",
   "execution_count": 103,
   "id": "fc7e2995",
   "metadata": {},
   "outputs": [
    {
     "data": {
      "image/png": "[encoded data removed]",
      "text/plain": [
       "<Figure size 936x432 with 1 Axes>"
      ]
     },
     "metadata": {
      "needs_background": "light"
     },
     "output_type": "display_data"
    }
   ],
   "source": [
    "plt.figure(figsize = (13,6))\n",
    "sns.countplot( x= df['VehicleCategory'], hue = 'FraudFound_P', data = df)\n",
    "plt.xlabel('VehicleCategory')\n",
    "plt.ylabel('Frequency')\n",
    "plt.show()"
   ]
  },
  {
   "cell_type": "code",
   "execution_count": 100,
   "id": "45493414",
   "metadata": {},
   "outputs": [
    {
     "data": {
      "image/png": "[encoded data removed]",
      "text/plain": [
       "<Figure size 936x432 with 1 Axes>"
      ]
     },
     "metadata": {
      "needs_background": "light"
     },
     "output_type": "display_data"
    }
   ],
   "source": [
    "plt.figure(figsize = (13,6))\n",
    "sns.countplot( x= df['PolicyType'], hue = 'FraudFound_P', data = df)\n",
    "plt.xlabel('PolicyType')\n",
    "plt.ylabel('Frequency')\n",
    "plt.show()"
   ]
  },
  {
   "cell_type": "code",
   "execution_count": 34,
   "id": "724970b0",
   "metadata": {},
   "outputs": [
    {
     "data": {
      "image/png": "[encoded data removed]",
      "text/plain": [
       "<Figure size 936x432 with 1 Axes>"
      ]
     },
     "metadata": {
      "needs_background": "light"
     },
     "output_type": "display_data"
    }
   ],
   "source": [
    "plt.figure(figsize = (13,6))\n",
    "sns.countplot( x= df['VehiclePrice'], hue = 'FraudFound_P', data = df)\n",
    "plt.xlabel('VehiclePrice')\n",
    "plt.ylabel('Frequency')\n",
    "plt.show()"
   ]
  },
  {
   "cell_type": "code",
   "execution_count": 35,
   "id": "ca1869fa",
   "metadata": {},
   "outputs": [
    {
     "data": {
      "image/png": "[encoded data removed]",
      "text/plain": [
       "<Figure size 936x432 with 1 Axes>"
      ]
     },
     "metadata": {
      "needs_background": "light"
     },
     "output_type": "display_data"
    }
   ],
   "source": [
    "plt.figure(figsize = (13,6))\n",
    "sns.countplot( x= df['Deductible'], hue = 'FraudFound_P', data = df)\n",
    "plt.xlabel('Deductible')\n",
    "plt.ylabel('Frequency')\n",
    "plt.show()"
   ]
  },
  {
   "cell_type": "code",
   "execution_count": 36,
   "id": "9b890c81",
   "metadata": {},
   "outputs": [
    {
     "data": {
      "image/png": "[encoded data removed]",
      "text/plain": [
       "<Figure size 936x432 with 1 Axes>"
      ]
     },
     "metadata": {
      "needs_background": "light"
     },
     "output_type": "display_data"
    }
   ],
   "source": [
    "plt.figure(figsize = (13,6)\n",
    "sns.countplot( x= df['DriverRating'], hue = 'FraudFound_P', data = df)\n",
    "plt.xlabel('DriverRating')\n",
    "plt.ylabel('Frequency')\n",
    "plt.show()"
   ]
  },
  {
   "cell_type": "code",
   "execution_count": 37,
   "id": "2bb9f6c7",
   "metadata": {},
   "outputs": [
    {
     "data": {
      "image/png": "[encoded data removed]",
      "text/plain": [
       "<Figure size 936x432 with 1 Axes>"
      ]
     },
     "metadata": {
      "needs_background": "light"
     },
     "output_type": "display_data"
    }
   ],
   "source": [
    "plt.figure(figsize = (13,6))\n",
    "sns.countplot( x= df['Days_Policy_Accident'], hue = 'FraudFound_P', data = df)\n",
    "plt.xlabel('Days_Policy_Accident')\n",
    "plt.ylabel('Frequency')\n",
    "plt.show()"
   ]
  },
  {
   "cell_type": "code",
   "execution_count": 38,
   "id": "f3f2feab",
   "metadata": {},
   "outputs": [
    {
     "data": {
      "image/png": "[encoded data removed]",
      "text/plain": [
       "<Figure size 936x432 with 1 Axes>"
      ]
     },
     "metadata": {
      "needs_background": "light"
     },
     "output_type": "display_data"
    }
   ],
   "source": [
    "plt.figure(figsize = (13,6))\n",
    "sns.countplot( x= df['Days_Policy_Claim'], hue = 'FraudFound_P', data = df)\n",
    "plt.xlabel('Days_Policy_Claim')\n",
    "plt.ylabel('Frequency')\n",
    "plt.show()"
   ]
  },
  {
   "cell_type": "code",
   "execution_count": 39,
   "id": "b0c068d2",
   "metadata": {},
   "outputs": [
    {
     "data": {
      "image/png": "[encoded data removed]",
      "text/plain": [
       "<Figure size 936x432 with 1 Axes>"
      ]
     },
     "metadata": {
      "needs_background": "light"
     },
     "output_type": "display_data"
    }
   ],
   "source": [
    "plt.figure(figsize = (13,6))\n",
    "sns.countplot( x= df['PastNumberOfClaims'], hue = 'FraudFound_P', data = df)\n",
    "plt.xlabel('PastNumberOfClaims')\n",
    "plt.ylabel('Frequency')\n",
    "plt.show()"
   ]
  },
  {
   "cell_type": "code",
   "execution_count": 106,
   "id": "aa55b661",
   "metadata": {},
   "outputs": [
    {
     "data": {
      "image/png": "[encoded data removed]",
      "text/plain": [
       "<Figure size 936x432 with 1 Axes>"
      ]
     },
     "metadata": {
      "needs_background": "light"
     },
     "output_type": "display_data"
    }
   ],
   "source": [
    "plt.figure(figsize = (13,6))\n",
    "sns.countplot( x= df['AgeOfVehicle'], hue = 'FraudFound_P', data = df)\n",
    "plt.xlabel('AgeOfVehicle')\n",
    "plt.ylabel('Frequency')\n",
    "plt.show()"
   ]
  },
  {
   "cell_type": "code",
   "execution_count": 105,
   "id": "d016b2a0",
   "metadata": {},
   "outputs": [
    {
     "data": {
      "image/png": "[encoded data removed]",
      "text/plain": [
       "<Figure size 936x432 with 1 Axes>"
      ]
     },
     "metadata": {
      "needs_background": "light"
     },
     "output_type": "display_data"
    }
   ],
   "source": [
    "plt.figure(figsize = (13,6))\n",
    "sns.countplot( x= df['AgeOfPolicyHolder'], hue = 'FraudFound_P', data = df)\n",
    "plt.xlabel('AgeOfPolicyHolder')\n",
    "plt.ylabel('Frequency')\n",
    "plt.show()"
   ]
  },
  {
   "cell_type": "code",
   "execution_count": 104,
   "id": "62ddd82d",
   "metadata": {},
   "outputs": [
    {
     "data": {
      "image/png": "[encoded data removed]",
      "text/plain": [
       "<Figure size 936x432 with 1 Axes>"
      ]
     },
     "metadata": {
      "needs_background": "light"
     },
     "output_type": "display_data"
    }
   ],
   "source": [
    "plt.figure(figsize = (13,6))\n",
    "sns.countplot( x= df['PoliceReportFiled'], hue = 'FraudFound_P', data = df)\n",
    "plt.xlabel('PoliceReportFiled')\n",
    "plt.ylabel('Frequency')\n",
    "plt.show()"
   ]
  },
  {
   "cell_type": "code",
   "execution_count": 107,
   "id": "85417b68",
   "metadata": {},
   "outputs": [
    {
     "data": {
      "image/png": "[encoded data removed]",
      "text/plain": [
       "<Figure size 936x432 with 1 Axes>"
      ]
     },
     "metadata": {
      "needs_background": "light"
     },
     "output_type": "display_data"
    }
   ],
   "source": [
    "plt.figure(figsize = (13,6))\n",
    "sns.countplot( x= df['WitnessPresent'], hue = 'FraudFound_P', data = df)\n",
    "plt.xlabel('WitnessPresent')\n",
    "plt.ylabel('Frequency')\n",
    "plt.show()"
   ]
  },
  {
   "cell_type": "code",
   "execution_count": 108,
   "id": "cfa83243",
   "metadata": {},
   "outputs": [
    {
     "data": {
      "image/png": "[encoded data removed]",
      "text/plain": [
       "<Figure size 936x432 with 1 Axes>"
      ]
     },
     "metadata": {
      "needs_background": "light"
     },
     "output_type": "display_data"
    }
   ],
   "source": [
    "plt.figure(figsize = (13,6))\n",
    "sns.countplot( x= df['AgentType'], hue = 'FraudFound_P', data = df)\n",
    "plt.xlabel('AgentType')\n",
    "plt.ylabel('Frequency')\n",
    "plt.show()"
   ]
  },
  {
   "cell_type": "code",
   "execution_count": 109,
   "id": "702bea22",
   "metadata": {},
   "outputs": [
    {
     "data": {
      "image/png": "[encoded data removed]",
      "text/plain": [
       "<Figure size 936x432 with 1 Axes>"
      ]
     },
     "metadata": {
      "needs_background": "light"
     },
     "output_type": "display_data"
    }
   ],
   "source": [
    "plt.figure(figsize = (13,6))\n",
    "sns.countplot( x= df['NumberOfSuppliments'], hue = 'FraudFound_P', data = df)\n",
    "plt.xlabel('NumberOfSuppliments')\n",
    "plt.ylabel('Frequency')\n",
    "plt.show()"
   ]
  },
  {
   "cell_type": "code",
   "execution_count": 110,
   "id": "14359814",
   "metadata": {},
   "outputs": [
    {
     "data": {
      "image/png": "[encoded data removed]",
      "text/plain": [
       "<Figure size 936x432 with 1 Axes>"
      ]
     },
     "metadata": {
      "needs_background": "light"
     },
     "output_type": "display_data"
    }
   ],
   "source": [
    "plt.figure(figsize = (13,6))\n",
    "sns.countplot( x= df['AddressChange_Claim'], hue = 'FraudFound_P', data = df)\n",
    "plt.xlabel('AddressChange_Claim')\n",
    "plt.ylabel('Frequency')\n",
    "plt.show()"
   ]
  },
  {
   "cell_type": "code",
   "execution_count": 111,
   "id": "8d30b60c",
   "metadata": {},
   "outputs": [
    {
     "data": {
      "image/png": "[encoded data removed]",
      "text/plain": [
       "<Figure size 936x432 with 1 Axes>"
      ]
     },
     "metadata": {
      "needs_background": "light"
     },
     "output_type": "display_data"
    }
   ],
   "source": [
    "plt.figure(figsize = (13,6))\n",
    "sns.countplot( x= df['NumberOfCars'], hue = 'FraudFound_P', data = df)\n",
    "plt.xlabel('NumberOfCars')\n",
    "plt.ylabel('Frequency')\n",
    "plt.show()"
   ]
  },
  {
   "cell_type": "code",
   "execution_count": 112,
   "id": "907520b5",
   "metadata": {},
   "outputs": [
    {
     "data": {
      "image/png": "[encoded data removed]",
      "text/plain": [
       "<Figure size 936x432 with 1 Axes>"
      ]
     },
     "metadata": {
      "needs_background": "light"
     },
     "output_type": "display_data"
    }
   ],
   "source": [
    "plt.figure(figsize = (13,6))\n",
    "sns.countplot( x= df['Year'], hue = 'FraudFound_P', data = df)\n",
    "plt.xlabel('Year')\n",
    "plt.ylabel('Frequency')\n",
    "plt.show()"
   ]
  },
  {
   "cell_type": "code",
   "execution_count": 113,
   "id": "e970805c",
   "metadata": {},
   "outputs": [
    {
     "data": {
      "image/png": "[encoded data removed]",
      "text/plain": [
       "<Figure size 936x432 with 1 Axes>"
      ]
     },
     "metadata": {
      "needs_background": "light"
     },
     "output_type": "display_data"
    }
   ],
   "source": [
    "plt.figure(figsize = (13,6))\n",
    "sns.countplot( x= df['BasePolicy'], hue = 'FraudFound_P', data = df)\n",
    "plt.xlabel('BasePolicy')\n",
    "plt.ylabel('Frequency')\n",
    "plt.show()"
   ]
  },
  {
   "cell_type": "code",
   "execution_count": 118,
   "id": "b9e4a42d",
   "metadata": {},
   "outputs": [
    {
     "data": {
      "text/plain": [
       "<AxesSubplot:title={'center':'Age'}, xlabel='FraudFound_P'>"
      ]
     },
     "execution_count": 118,
     "metadata": {},
     "output_type": "execute_result"
    },
    {
     "data": {
      "image/png": "[encoded data removed]",
      "text/plain": [
       "<Figure size 432x288 with 1 Axes>"
      ]
     },
     "metadata": {
      "needs_background": "light"
     },
     "output_type": "display_data"
    }
   ],
   "source": [
    "df.boxplot(column='Age',by='FraudFound_P')"
   ]
  },
  {
   "cell_type": "code",
   "execution_count": 114,
   "id": "9d15416a",
   "metadata": {},
   "outputs": [
    {
     "data": {
      "text/plain": [
       "<AxesSubplot:title={'center':'ClaimSize'}, xlabel='FraudFound_P'>"
      ]
     },
     "execution_count": 114,
     "metadata": {},
     "output_type": "execute_result"
    },
    {
     "data": {
      "image/png": "[encoded data removed]",
      "text/plain": [
       "<Figure size 432x288 with 1 Axes>"
      ]
     },
     "metadata": {
      "needs_background": "light"
     },
     "output_type": "display_data"
    }
   ],
   "source": [
    "df.boxplot(column='ClaimSize',by='FraudFound_P')"
   ]
  },
  {
   "cell_type": "markdown",
   "id": "bc31cc7f",
   "metadata": {},
   "source": [
    "## STANDARDIZED THE NUMERIC VARIABLES"
   ]
  },
  {
   "cell_type": "markdown",
   "id": "fc90a222",
   "metadata": {},
   "source": [
    "We can see from the BOXPLOTS, the 2 $\\textbf{NUMERIC variables}$ $\\textbf{\"AGE\"}$ and $\\textbf{\"CLAIMSIZE\"}$ have $\\textbf{OUTLIERS}$. So, we $\\textbf{STANDARDIZED}$ these \n",
    "$\\textbf{2}$ columns for ease of our analysis."
   ]
  },
  {
   "cell_type": "code",
   "execution_count": 219,
   "id": "a6b3c445",
   "metadata": {},
   "outputs": [
    {
     "data": {
      "text/html": [
       "<div>\n",
       "<style scoped>\n",
       "    .dataframe tbody tr th:only-of-type {\n",
       "        vertical-align: middle;\n",
       "    }\n",
       "\n",
       "    .dataframe tbody tr th {\n",
       "        vertical-align: top;\n",
       "    }\n",
       "\n",
       "    .dataframe thead th {\n",
       "        text-align: right;\n",
       "    }\n",
       "</style>\n",
       "<table border=\"1\" class=\"dataframe\">\n",
       "  <thead>\n",
       "    <tr style=\"text-align: right;\">\n",
       "      <th></th>\n",
       "      <th>ClaimSize</th>\n",
       "      <th>Age</th>\n",
       "    </tr>\n",
       "  </thead>\n",
       "  <tbody>\n",
       "    <tr>\n",
       "      <th>0</th>\n",
       "      <td>1.205969</td>\n",
       "      <td>-1.390577</td>\n",
       "    </tr>\n",
       "    <tr>\n",
       "      <th>1</th>\n",
       "      <td>1.345561</td>\n",
       "      <td>-0.434062</td>\n",
       "    </tr>\n",
       "    <tr>\n",
       "      <th>2</th>\n",
       "      <td>1.807205</td>\n",
       "      <td>0.522452</td>\n",
       "    </tr>\n",
       "    <tr>\n",
       "      <th>3</th>\n",
       "      <td>-0.569928</td>\n",
       "      <td>1.846857</td>\n",
       "    </tr>\n",
       "    <tr>\n",
       "      <th>4</th>\n",
       "      <td>2.799520</td>\n",
       "      <td>-0.286906</td>\n",
       "    </tr>\n",
       "    <tr>\n",
       "      <th>...</th>\n",
       "      <td>...</td>\n",
       "      <td>...</td>\n",
       "    </tr>\n",
       "    <tr>\n",
       "      <th>11560</th>\n",
       "      <td>-0.733746</td>\n",
       "      <td>0.007406</td>\n",
       "    </tr>\n",
       "    <tr>\n",
       "      <th>11561</th>\n",
       "      <td>-0.608371</td>\n",
       "      <td>1.331811</td>\n",
       "    </tr>\n",
       "    <tr>\n",
       "      <th>11562</th>\n",
       "      <td>-0.653284</td>\n",
       "      <td>-0.360484</td>\n",
       "    </tr>\n",
       "    <tr>\n",
       "      <th>11563</th>\n",
       "      <td>-0.568672</td>\n",
       "      <td>-0.434062</td>\n",
       "    </tr>\n",
       "    <tr>\n",
       "      <th>11564</th>\n",
       "      <td>-0.791397</td>\n",
       "      <td>-1.390577</td>\n",
       "    </tr>\n",
       "  </tbody>\n",
       "</table>\n",
       "<p>11554 rows × 2 columns</p>\n",
       "</div>"
      ],
      "text/plain": [
       "       ClaimSize       Age\n",
       "0       1.205969 -1.390577\n",
       "1       1.345561 -0.434062\n",
       "2       1.807205  0.522452\n",
       "3      -0.569928  1.846857\n",
       "4       2.799520 -0.286906\n",
       "...          ...       ...\n",
       "11560  -0.733746  0.007406\n",
       "11561  -0.608371  1.331811\n",
       "11562  -0.653284 -0.360484\n",
       "11563  -0.568672 -0.434062\n",
       "11564  -0.791397 -1.390577\n",
       "\n",
       "[11554 rows x 2 columns]"
      ]
     },
     "execution_count": 219,
     "metadata": {},
     "output_type": "execute_result"
    }
   ],
   "source": [
    "scaler = StandardScaler()\n",
    "df[[\"ClaimSize\",\"Age\"]]=scaler.fit_transform(df[[\"ClaimSize\",\"Age\"]])\n",
    "df[[\"ClaimSize\",\"Age\"]]"
   ]
  },
  {
   "cell_type": "markdown",
   "id": "e30111cc",
   "metadata": {},
   "source": [
    "## ENCODING THE CATEGORICAL VARIABLES"
   ]
  },
  {
   "cell_type": "markdown",
   "id": "19183f3b",
   "metadata": {},
   "source": [
    "As Maximum of the $\\textbf{FEATURES}$ are $\\textbf{CAEGORICAL}$, $\\textbf{NON-ORDINAL}$ variable, we have to $\\textbf{LABEL}$ \n",
    "them. $\\\\$\n",
    "But we can’t just label them on the basis of uniqueness, $\\\\\\\\$\n",
    "i.e. suppose a feature has 4 categories, we can’t just label them\n",
    "as 0,1,2 and 3 because the machine will think that the category that is labelled as 2 must have closer\n",
    "relationship with the category labelled as 3 instead of the category labelled as 0. This interpretation\n",
    "done by the machine is totally baseless as in reality that may not even the case. This means that it\n",
    "doesn’t make sense to order them from largest to smallest using larger or small numbers.$\\\\\\\\\\\\$ \n",
    "So, we create $\\textbf{DUMMY-VARIABLES}$ for each of the features to avoid this discrepancy. "
   ]
  },
  {
   "cell_type": "code",
   "execution_count": 222,
   "id": "3df40d96",
   "metadata": {},
   "outputs": [
    {
     "name": "stdout",
     "output_type": "stream",
     "text": [
      "<class 'pandas.core.frame.DataFrame'>\n",
      "Int64Index: 11554 entries, 0 to 11564\n",
      "Data columns (total 83 columns):\n",
      " #   Column                              Non-Null Count  Dtype  \n",
      "---  ------                              --------------  -----  \n",
      " 0   WeekOfMonth                         11554 non-null  int64  \n",
      " 1   AccidentArea                        11554 non-null  int64  \n",
      " 2   WeekOfMonthClaimed                  11554 non-null  int64  \n",
      " 3   Sex                                 11554 non-null  int64  \n",
      " 4   Age                                 11554 non-null  float64\n",
      " 5   Fault                               11554 non-null  int64  \n",
      " 6   FraudFound_P                        11554 non-null  int64  \n",
      " 7   Deductible                          11554 non-null  int64  \n",
      " 8   DriverRating                        11554 non-null  float64\n",
      " 9   PoliceReportFiled                   11554 non-null  int64  \n",
      " 10  WitnessPresent                      11554 non-null  int64  \n",
      " 11  AgentType                           11554 non-null  int64  \n",
      " 12  Year                                11554 non-null  int64  \n",
      " 13  ClaimSize                           11554 non-null  float64\n",
      " 14  MaritalStatus_Divorced              11554 non-null  uint8  \n",
      " 15  MaritalStatus_Married               11554 non-null  uint8  \n",
      " 16  MaritalStatus_Single                11554 non-null  uint8  \n",
      " 17  MaritalStatus_Widow                 11554 non-null  uint8  \n",
      " 18  PolicyType_Sedan - All Perils       11554 non-null  uint8  \n",
      " 19  PolicyType_Sedan - Collision        11554 non-null  uint8  \n",
      " 20  PolicyType_Sedan - Liability        11554 non-null  uint8  \n",
      " 21  PolicyType_Sport - All Perils       11554 non-null  uint8  \n",
      " 22  PolicyType_Sport - Collision        11554 non-null  uint8  \n",
      " 23  PolicyType_Sport - Liability        11554 non-null  uint8  \n",
      " 24  PolicyType_Utility - All Perils     11554 non-null  uint8  \n",
      " 25  PolicyType_Utility - Collision      11554 non-null  uint8  \n",
      " 26  PolicyType_Utility - Liability      11554 non-null  uint8  \n",
      " 27  VehicleCategory_Sedan               11554 non-null  uint8  \n",
      " 28  VehicleCategory_Sport               11554 non-null  uint8  \n",
      " 29  VehicleCategory_Utility             11554 non-null  uint8  \n",
      " 30  VehiclePrice_20000 to 29000         11554 non-null  uint8  \n",
      " 31  VehiclePrice_30000 to 39000         11554 non-null  uint8  \n",
      " 32  VehiclePrice_40000 to 59000         11554 non-null  uint8  \n",
      " 33  VehiclePrice_60000 to 69000         11554 non-null  uint8  \n",
      " 34  VehiclePrice_less than 20000        11554 non-null  uint8  \n",
      " 35  VehiclePrice_more than 69000        11554 non-null  uint8  \n",
      " 36  Days_Policy_Accident_1 to 7         11554 non-null  uint8  \n",
      " 37  Days_Policy_Accident_15 to 30       11554 non-null  uint8  \n",
      " 38  Days_Policy_Accident_8 to 15        11554 non-null  uint8  \n",
      " 39  Days_Policy_Accident_more than 30   11554 non-null  uint8  \n",
      " 40  Days_Policy_Accident_none           11554 non-null  uint8  \n",
      " 41  Days_Policy_Claim_15 to 30          11554 non-null  uint8  \n",
      " 42  Days_Policy_Claim_8 to 15           11554 non-null  uint8  \n",
      " 43  Days_Policy_Claim_more than 30      11554 non-null  uint8  \n",
      " 44  Days_Policy_Claim_none              11554 non-null  uint8  \n",
      " 45  PastNumberOfClaims_1                11554 non-null  uint8  \n",
      " 46  PastNumberOfClaims_2 to 4           11554 non-null  uint8  \n",
      " 47  PastNumberOfClaims_more than 4      11554 non-null  uint8  \n",
      " 48  PastNumberOfClaims_none             11554 non-null  uint8  \n",
      " 49  AgeOfVehicle_2 years                11554 non-null  uint8  \n",
      " 50  AgeOfVehicle_3 years                11554 non-null  uint8  \n",
      " 51  AgeOfVehicle_4 years                11554 non-null  uint8  \n",
      " 52  AgeOfVehicle_5 years                11554 non-null  uint8  \n",
      " 53  AgeOfVehicle_6 years                11554 non-null  uint8  \n",
      " 54  AgeOfVehicle_7 years                11554 non-null  uint8  \n",
      " 55  AgeOfVehicle_more than 7            11554 non-null  uint8  \n",
      " 56  AgeOfVehicle_new                    11554 non-null  uint8  \n",
      " 57  AgeOfPolicyHolder_16 to 17          11554 non-null  uint8  \n",
      " 58  AgeOfPolicyHolder_18 to 20          11554 non-null  uint8  \n",
      " 59  AgeOfPolicyHolder_21 to 25          11554 non-null  uint8  \n",
      " 60  AgeOfPolicyHolder_26 to 30          11554 non-null  uint8  \n",
      " 61  AgeOfPolicyHolder_31 to 35          11554 non-null  uint8  \n",
      " 62  AgeOfPolicyHolder_36 to 40          11554 non-null  uint8  \n",
      " 63  AgeOfPolicyHolder_41 to 50          11554 non-null  uint8  \n",
      " 64  AgeOfPolicyHolder_51 to 65          11554 non-null  uint8  \n",
      " 65  AgeOfPolicyHolder_over 65           11554 non-null  uint8  \n",
      " 66  NumberOfSuppliments_1 to 2          11554 non-null  uint8  \n",
      " 67  NumberOfSuppliments_3 to 5          11554 non-null  uint8  \n",
      " 68  NumberOfSuppliments_more than 5     11554 non-null  uint8  \n",
      " 69  NumberOfSuppliments_none            11554 non-null  uint8  \n",
      " 70  AddressChange_Claim_1 year          11554 non-null  uint8  \n",
      " 71  AddressChange_Claim_2 to 3 years    11554 non-null  uint8  \n",
      " 72  AddressChange_Claim_4 to 8 years    11554 non-null  uint8  \n",
      " 73  AddressChange_Claim_no change       11554 non-null  uint8  \n",
      " 74  AddressChange_Claim_under 6 months  11554 non-null  uint8  \n",
      " 75  NumberOfCars_1 vehicle              11554 non-null  uint8  \n",
      " 76  NumberOfCars_2 vehicles             11554 non-null  uint8  \n",
      " 77  NumberOfCars_3 to 4                 11554 non-null  uint8  \n",
      " 78  NumberOfCars_5 to 8                 11554 non-null  uint8  \n",
      " 79  NumberOfCars_more than 8            11554 non-null  uint8  \n",
      " 80  BasePolicy_All Perils               11554 non-null  uint8  \n",
      " 81  BasePolicy_Collision                11554 non-null  uint8  \n",
      " 82  BasePolicy_Liability                11554 non-null  uint8  \n",
      "dtypes: float64(3), int64(11), uint8(69)\n",
      "memory usage: 2.1 MB\n"
     ]
    }
   ],
   "source": [
    "df = df[df.columns].replace({'Yes':1, 'No':0, 'Male':1,'Female':0,'Urban':1,'Rural':0,'Policy Holder':1,'Third Party':0,'External':1,'Internal':0})\n",
    "df=pd.get_dummies(df)\n",
    "df.info()"
   ]
  },
  {
   "cell_type": "markdown",
   "id": "9925cb52",
   "metadata": {},
   "source": [
    "As we know that, we cannot use $\\textbf{p}$ $\\textbf{DUMMIES}$ for a $\\textbf{CATEGORY}$ containing $\\textbf{p}$ CLASSES, because in that case,\n",
    "the $\\textbf{DESIGN MATRIX}$ becomes $\\textbf{SINGULAR}$; so we $\\textbf{CAN'T}$ get the estimators.$\\\\$ For that we need to $\\textbf{DROP}$ $\\textbf{1}$\n",
    "$\\textbf{DUMMY}$ for $\\textbf{EACH}$ $\\textbf{CATEGORY}$ to get a Design Matrix of $\\textbf{FULL RANK}$, so that the parameters are $\\textbf{ESTIMABLE}$."
   ]
  },
  {
   "cell_type": "code",
   "execution_count": 223,
   "id": "b21adca7",
   "metadata": {},
   "outputs": [
    {
     "data": {
      "text/html": [
       "<div>\n",
       "<style scoped>\n",
       "    .dataframe tbody tr th:only-of-type {\n",
       "        vertical-align: middle;\n",
       "    }\n",
       "\n",
       "    .dataframe tbody tr th {\n",
       "        vertical-align: top;\n",
       "    }\n",
       "\n",
       "    .dataframe thead th {\n",
       "        text-align: right;\n",
       "    }\n",
       "</style>\n",
       "<table border=\"1\" class=\"dataframe\">\n",
       "  <thead>\n",
       "    <tr style=\"text-align: right;\">\n",
       "      <th></th>\n",
       "      <th>WeekOfMonth</th>\n",
       "      <th>AccidentArea</th>\n",
       "      <th>WeekOfMonthClaimed</th>\n",
       "      <th>Sex</th>\n",
       "      <th>Age</th>\n",
       "      <th>Fault</th>\n",
       "      <th>FraudFound_P</th>\n",
       "      <th>Deductible</th>\n",
       "      <th>DriverRating</th>\n",
       "      <th>PoliceReportFiled</th>\n",
       "      <th>...</th>\n",
       "      <th>AddressChange_Claim_1 year</th>\n",
       "      <th>AddressChange_Claim_2 to 3 years</th>\n",
       "      <th>AddressChange_Claim_4 to 8 years</th>\n",
       "      <th>AddressChange_Claim_under 6 months</th>\n",
       "      <th>NumberOfCars_1 vehicle</th>\n",
       "      <th>NumberOfCars_2 vehicles</th>\n",
       "      <th>NumberOfCars_3 to 4</th>\n",
       "      <th>NumberOfCars_5 to 8</th>\n",
       "      <th>BasePolicy_All Perils</th>\n",
       "      <th>BasePolicy_Collision</th>\n",
       "    </tr>\n",
       "  </thead>\n",
       "  <tbody>\n",
       "    <tr>\n",
       "      <th>0</th>\n",
       "      <td>5</td>\n",
       "      <td>1</td>\n",
       "      <td>1</td>\n",
       "      <td>0</td>\n",
       "      <td>-1.390577</td>\n",
       "      <td>1</td>\n",
       "      <td>0</td>\n",
       "      <td>300</td>\n",
       "      <td>1.0</td>\n",
       "      <td>0</td>\n",
       "      <td>...</td>\n",
       "      <td>1</td>\n",
       "      <td>0</td>\n",
       "      <td>0</td>\n",
       "      <td>0</td>\n",
       "      <td>0</td>\n",
       "      <td>0</td>\n",
       "      <td>1</td>\n",
       "      <td>0</td>\n",
       "      <td>0</td>\n",
       "      <td>0</td>\n",
       "    </tr>\n",
       "    <tr>\n",
       "      <th>1</th>\n",
       "      <td>3</td>\n",
       "      <td>1</td>\n",
       "      <td>4</td>\n",
       "      <td>1</td>\n",
       "      <td>-0.434062</td>\n",
       "      <td>1</td>\n",
       "      <td>0</td>\n",
       "      <td>400</td>\n",
       "      <td>4.0</td>\n",
       "      <td>1</td>\n",
       "      <td>...</td>\n",
       "      <td>0</td>\n",
       "      <td>0</td>\n",
       "      <td>0</td>\n",
       "      <td>0</td>\n",
       "      <td>1</td>\n",
       "      <td>0</td>\n",
       "      <td>0</td>\n",
       "      <td>0</td>\n",
       "      <td>0</td>\n",
       "      <td>1</td>\n",
       "    </tr>\n",
       "    <tr>\n",
       "      <th>2</th>\n",
       "      <td>5</td>\n",
       "      <td>1</td>\n",
       "      <td>2</td>\n",
       "      <td>1</td>\n",
       "      <td>0.522452</td>\n",
       "      <td>1</td>\n",
       "      <td>0</td>\n",
       "      <td>400</td>\n",
       "      <td>3.0</td>\n",
       "      <td>0</td>\n",
       "      <td>...</td>\n",
       "      <td>0</td>\n",
       "      <td>0</td>\n",
       "      <td>0</td>\n",
       "      <td>0</td>\n",
       "      <td>1</td>\n",
       "      <td>0</td>\n",
       "      <td>0</td>\n",
       "      <td>0</td>\n",
       "      <td>0</td>\n",
       "      <td>1</td>\n",
       "    </tr>\n",
       "    <tr>\n",
       "      <th>3</th>\n",
       "      <td>2</td>\n",
       "      <td>0</td>\n",
       "      <td>1</td>\n",
       "      <td>1</td>\n",
       "      <td>1.846857</td>\n",
       "      <td>0</td>\n",
       "      <td>0</td>\n",
       "      <td>400</td>\n",
       "      <td>2.0</td>\n",
       "      <td>1</td>\n",
       "      <td>...</td>\n",
       "      <td>0</td>\n",
       "      <td>0</td>\n",
       "      <td>0</td>\n",
       "      <td>0</td>\n",
       "      <td>1</td>\n",
       "      <td>0</td>\n",
       "      <td>0</td>\n",
       "      <td>0</td>\n",
       "      <td>0</td>\n",
       "      <td>0</td>\n",
       "    </tr>\n",
       "    <tr>\n",
       "      <th>4</th>\n",
       "      <td>1</td>\n",
       "      <td>1</td>\n",
       "      <td>3</td>\n",
       "      <td>1</td>\n",
       "      <td>-0.286906</td>\n",
       "      <td>0</td>\n",
       "      <td>0</td>\n",
       "      <td>400</td>\n",
       "      <td>1.0</td>\n",
       "      <td>0</td>\n",
       "      <td>...</td>\n",
       "      <td>0</td>\n",
       "      <td>0</td>\n",
       "      <td>0</td>\n",
       "      <td>0</td>\n",
       "      <td>1</td>\n",
       "      <td>0</td>\n",
       "      <td>0</td>\n",
       "      <td>0</td>\n",
       "      <td>0</td>\n",
       "      <td>1</td>\n",
       "    </tr>\n",
       "  </tbody>\n",
       "</table>\n",
       "<p>5 rows × 70 columns</p>\n",
       "</div>"
      ],
      "text/plain": [
       "   WeekOfMonth  AccidentArea  WeekOfMonthClaimed  Sex       Age  Fault  \\\n",
       "0            5             1                   1    0 -1.390577      1   \n",
       "1            3             1                   4    1 -0.434062      1   \n",
       "2            5             1                   2    1  0.522452      1   \n",
       "3            2             0                   1    1  1.846857      0   \n",
       "4            1             1                   3    1 -0.286906      0   \n",
       "\n",
       "   FraudFound_P  Deductible  DriverRating  PoliceReportFiled  ...  \\\n",
       "0             0         300           1.0                  0  ...   \n",
       "1             0         400           4.0                  1  ...   \n",
       "2             0         400           3.0                  0  ...   \n",
       "3             0         400           2.0                  1  ...   \n",
       "4             0         400           1.0                  0  ...   \n",
       "\n",
       "   AddressChange_Claim_1 year  AddressChange_Claim_2 to 3 years  \\\n",
       "0                           1                                 0   \n",
       "1                           0                                 0   \n",
       "2                           0                                 0   \n",
       "3                           0                                 0   \n",
       "4                           0                                 0   \n",
       "\n",
       "   AddressChange_Claim_4 to 8 years  AddressChange_Claim_under 6 months  \\\n",
       "0                                 0                                   0   \n",
       "1                                 0                                   0   \n",
       "2                                 0                                   0   \n",
       "3                                 0                                   0   \n",
       "4                                 0                                   0   \n",
       "\n",
       "   NumberOfCars_1 vehicle  NumberOfCars_2 vehicles  NumberOfCars_3 to 4  \\\n",
       "0                       0                        0                    1   \n",
       "1                       1                        0                    0   \n",
       "2                       1                        0                    0   \n",
       "3                       1                        0                    0   \n",
       "4                       1                        0                    0   \n",
       "\n",
       "   NumberOfCars_5 to 8  BasePolicy_All Perils  BasePolicy_Collision  \n",
       "0                    0                      0                     0  \n",
       "1                    0                      0                     1  \n",
       "2                    0                      0                     1  \n",
       "3                    0                      0                     0  \n",
       "4                    0                      0                     1  \n",
       "\n",
       "[5 rows x 70 columns]"
      ]
     },
     "execution_count": 223,
     "metadata": {},
     "output_type": "execute_result"
    }
   ],
   "source": [
    "df.iloc[:,14:82] = df.iloc[:,14:82].astype(np.int64)\n",
    "df=df.drop([\"MaritalStatus_Widow\",\"PolicyType_Utility - Liability\",\"VehicleCategory_Utility\",\"VehiclePrice_more than 69000\",\"Days_Policy_Accident_none\",\"Days_Policy_Claim_none\",\"PastNumberOfClaims_none\",\"AgeOfVehicle_new\",\"AgeOfPolicyHolder_over 65\",\"NumberOfSuppliments_none\",\"AddressChange_Claim_no change\",\"NumberOfCars_more than 8\",\"BasePolicy_Liability\"],axis=1)\n",
    "df.head()"
   ]
  },
  {
   "cell_type": "markdown",
   "id": "1018881f",
   "metadata": {},
   "source": [
    "## SET TARGET VARIABLE"
   ]
  },
  {
   "cell_type": "markdown",
   "id": "ea08230f",
   "metadata": {},
   "source": [
    "Our $\\textbf{RESPONSE}$ variable is $\\textbf{FRAUD FOUND_P}$."
   ]
  },
  {
   "cell_type": "code",
   "execution_count": 225,
   "id": "eccaaeee",
   "metadata": {},
   "outputs": [],
   "source": [
    "#Select Features\n",
    "features = df.drop(columns =['FraudFound_P'], axis = 1)\n",
    "#Select Target \n",
    "target = df['FraudFound_P']"
   ]
  },
  {
   "cell_type": "markdown",
   "id": "4f1b1587",
   "metadata": {},
   "source": [
    "## SPLITTING DATASET INTO TRAINING AND TEST DATA"
   ]
  },
  {
   "cell_type": "markdown",
   "id": "a4200dc9",
   "metadata": {},
   "source": [
    "We divide Our dataset in $\\textbf{TEST}$ and $\\textbf{TRAIN}$ set in $\\textbf{(1:4)}$ ratio"
   ]
  },
  {
   "cell_type": "code",
   "execution_count": 226,
   "id": "f3a47654",
   "metadata": {},
   "outputs": [
    {
     "name": "stdout",
     "output_type": "stream",
     "text": [
      "Shape of training feature: (9243, 69)\n",
      "Shape of testing feature: (2311, 69)\n",
      "Shape of training label: (9243,)\n",
      "Shape of training label: (2311,)\n"
     ]
    }
   ],
   "source": [
    "# Set Training and Testing Data\n",
    "from sklearn.model_selection import train_test_split\n",
    "X_train, X_test, y_train, y_test = train_test_split(features, target, shuffle = True, test_size =0.2, random_state = 0)\n",
    "\n",
    "print('Shape of training feature:', X_train.shape)\n",
    "print('Shape of testing feature:', X_test.shape)\n",
    "print('Shape of training label:', y_train.shape)\n",
    "print('Shape of training label:', y_test.shape)"
   ]
  },
  {
   "cell_type": "markdown",
   "id": "a225913b",
   "metadata": {},
   "source": [
    "## USING DIFFERENT CLASSIFIERS"
   ]
  },
  {
   "cell_type": "code",
   "execution_count": 227,
   "id": "91c61175",
   "metadata": {},
   "outputs": [],
   "source": [
    "def evaluate_model(model, x_test, y_test):\n",
    "    from sklearn import metrics\n",
    "\n",
    "    # Predict Test Data \n",
    "    y_pred = model.predict(x_test)\n",
    "\n",
    "    # Calculate accuracy, precision, recall, f1-score, and kappa score\n",
    "    acc = metrics.accuracy_score(y_test, y_pred)\n",
    "    prec = metrics.precision_score(y_test, y_pred)\n",
    "    rec = metrics.recall_score(y_test, y_pred)\n",
    "    f1 = metrics.f1_score(y_test, y_pred)\n",
    "    \n",
    "\n",
    "    # Calculate area under curve (AUC)\n",
    "    y_pred_proba = model.predict_proba(x_test)[::,1]\n",
    "    fpr, tpr, _ = metrics.roc_curve(y_test, y_pred_proba)\n",
    "    auc = metrics.roc_auc_score(y_test, y_pred_proba)\n",
    "\n",
    "    # Display confussion matrix\n",
    "    cm = metrics.confusion_matrix(y_test, y_pred)\n",
    "    return {'acc': acc, 'prec': prec, 'rec': rec, 'f1': f1,\n",
    "            'fpr': fpr, 'tpr': tpr, 'auc': auc, 'cm': cm}"
   ]
  },
  {
   "cell_type": "markdown",
   "id": "28017c8b",
   "metadata": {},
   "source": [
    "## LOGISTIC CLASSIFIER"
   ]
  },
  {
   "cell_type": "markdown",
   "id": "d9a6561e",
   "metadata": {},
   "source": [
    "We firstly apply $\\textbf{LOGISTIC CLASSIFIER}$"
   ]
  },
  {
   "cell_type": "code",
   "execution_count": 231,
   "id": "2ca3aba7",
   "metadata": {},
   "outputs": [
    {
     "name": "stderr",
     "output_type": "stream",
     "text": [
      "C:\\ProgramData\\Anaconda3\\lib\\site-packages\\statsmodels\\genmod\\families\\links.py:187: RuntimeWarning:\n",
      "\n",
      "overflow encountered in exp\n",
      "\n"
     ]
    },
    {
     "name": "stdout",
     "output_type": "stream",
     "text": [
      "                 Generalized Linear Model Regression Results                  \n",
      "==============================================================================\n",
      "Dep. Variable:           FraudFound_P   No. Observations:                 9243\n",
      "Model:                            GLM   Df Residuals:                     9178\n",
      "Model Family:                Binomial   Df Model:                           64\n",
      "Link Function:                  Logit   Scale:                          1.0000\n",
      "Method:                          IRLS   Log-Likelihood:                    nan\n",
      "Date:                Sat, 09 Jul 2022   Deviance:                       54894.\n",
      "Time:                        23:59:50   Pearson chi2:                 2.68e+18\n",
      "No. Iterations:                    90   Pseudo R-squ. (CS):                nan\n",
      "Covariance Type:            nonrobust                                         \n",
      "======================================================================================================\n",
      "                                         coef    std err          z      P>|z|      [0.025      0.975]\n",
      "------------------------------------------------------------------------------------------------------\n",
      "const                               1.551e+17   1.31e+09   1.18e+08      0.000    1.55e+17    1.55e+17\n",
      "WeekOfMonth                        -2.311e+12    5.7e+05  -4.05e+06      0.000   -2.31e+12   -2.31e+12\n",
      "AccidentArea                       -2.566e+14   2.28e+06  -1.13e+08      0.000   -2.57e+14   -2.57e+14\n",
      "WeekOfMonthClaimed                  3.089e+12   5.79e+05   5.33e+06      0.000    3.09e+12    3.09e+12\n",
      "Sex                                 1.641e+14   2.03e+06   8.09e+07      0.000    1.64e+14    1.64e+14\n",
      "Age                                -7.598e+13   3.16e+06   -2.4e+07      0.000    -7.6e+13    -7.6e+13\n",
      "Fault                                4.46e+14   1.63e+06   2.74e+08      0.000    4.46e+14    4.46e+14\n",
      "Deductible                          2.497e+12    1.7e+04   1.47e+08      0.000     2.5e+12     2.5e+12\n",
      "DriverRating                        6.954e+13   6.49e+05   1.07e+08      0.000    6.95e+13    6.95e+13\n",
      "PoliceReportFiled                   4.535e+13   4.18e+06   1.09e+07      0.000    4.54e+13    4.54e+13\n",
      "WitnessPresent                     -9.245e+13    9.6e+06  -9.63e+06      0.000   -9.24e+13   -9.24e+13\n",
      "AgentType                           1.431e+14   5.89e+06   2.43e+07      0.000    1.43e+14    1.43e+14\n",
      "Year                               -1.065e+14   8.76e+05  -1.21e+08      0.000   -1.06e+14   -1.06e+14\n",
      "ClaimSize                           3.743e+13   1.31e+06   2.85e+07      0.000    3.74e+13    3.74e+13\n",
      "MaritalStatus_Divorced             -8.251e+14   1.91e+07  -4.32e+07      0.000   -8.25e+14   -8.25e+14\n",
      "MaritalStatus_Married              -8.888e+14   1.64e+07  -5.41e+07      0.000   -8.89e+14   -8.89e+14\n",
      "MaritalStatus_Single               -1.009e+15   1.65e+07  -6.13e+07      0.000   -1.01e+15   -1.01e+15\n",
      "PolicyType_Sedan - All Perils       8.523e+14   5.02e+06    1.7e+08      0.000    8.52e+14    8.52e+14\n",
      "PolicyType_Sedan - Collision       -7.138e+14   5.01e+06  -1.42e+08      0.000   -7.14e+14   -7.14e+14\n",
      "PolicyType_Sedan - Liability        1.299e+15    1.8e+07   7.22e+07      0.000     1.3e+15     1.3e+15\n",
      "PolicyType_Sport - All Perils      -1.864e+15   1.65e+07  -1.13e+08      0.000   -1.86e+15   -1.86e+15\n",
      "PolicyType_Sport - Collision         1.37e+15   1.23e+07   1.12e+08      0.000    1.37e+15    1.37e+15\n",
      "PolicyType_Sport - Liability       -1.674e+15   5.35e+07  -3.13e+07      0.000   -1.67e+15   -1.67e+15\n",
      "PolicyType_Utility - All Perils     1.055e+15   1.21e+07   8.69e+07      0.000    1.06e+15    1.06e+15\n",
      "PolicyType_Utility - Collision       3.81e+14    1.5e+07   2.55e+07      0.000    3.81e+14    3.81e+14\n",
      "VehicleCategory_Sedan               1.385e+14   7.62e+06   1.82e+07      0.000    1.38e+14    1.38e+14\n",
      "VehicleCategory_Sport              -8.694e+14   1.99e+07  -4.36e+07      0.000   -8.69e+14   -8.69e+14\n",
      "VehiclePrice_20000 to 29000         6.599e+13   3.96e+06   1.67e+07      0.000     6.6e+13     6.6e+13\n",
      "VehiclePrice_30000 to 39000         2.481e+13    3.3e+06   7.51e+06      0.000    2.48e+13    2.48e+13\n",
      "VehiclePrice_40000 to 59000         2.676e+14   4.94e+06   5.41e+07      0.000    2.68e+14    2.68e+14\n",
      "VehiclePrice_60000 to 69000         7.084e+14   1.05e+07   6.75e+07      0.000    7.08e+14    7.08e+14\n",
      "VehiclePrice_less than 20000       -3.131e+13   4.72e+06  -6.63e+06      0.000   -3.13e+13   -3.13e+13\n",
      "Days_Policy_Accident_1 to 7         -1.14e+15   2.46e+07  -4.63e+07      0.000   -1.14e+15   -1.14e+15\n",
      "Days_Policy_Accident_15 to 30      -4.021e+15   1.82e+07  -2.21e+08      0.000   -4.02e+15   -4.02e+15\n",
      "Days_Policy_Accident_8 to 15       -9.879e+14    1.7e+07  -5.81e+07      0.000   -9.88e+14   -9.88e+14\n",
      "Days_Policy_Accident_more than 30  -4.015e+14   1.29e+07   -3.1e+07      0.000   -4.02e+14   -4.02e+14\n",
      "Days_Policy_Claim_15 to 30           5.19e+16   4.37e+08   1.19e+08      0.000    5.19e+16    5.19e+16\n",
      "Days_Policy_Claim_8 to 15           5.203e+16   4.37e+08   1.19e+08      0.000     5.2e+16     5.2e+16\n",
      "Days_Policy_Claim_more than 30      5.118e+16   4.37e+08   1.17e+08      0.000    5.12e+16    5.12e+16\n",
      "PastNumberOfClaims_1               -8.185e+13   2.03e+06  -4.04e+07      0.000   -8.19e+13   -8.19e+13\n",
      "PastNumberOfClaims_2 to 4          -2.669e+12    1.9e+06   -1.4e+06      0.000   -2.67e+12   -2.67e+12\n",
      "PastNumberOfClaims_more than 4      4.097e+12   2.73e+06    1.5e+06      0.000     4.1e+12     4.1e+12\n",
      "AgeOfVehicle_2 years                5.324e+14   1.65e+07   3.22e+07      0.000    5.32e+14    5.32e+14\n",
      "AgeOfVehicle_3 years                7.999e+14   1.46e+07   5.49e+07      0.000       8e+14       8e+14\n",
      "AgeOfVehicle_4 years                8.693e+14   1.31e+07   6.63e+07      0.000    8.69e+14    8.69e+14\n",
      "AgeOfVehicle_5 years                5.662e+14    1.2e+07   4.73e+07      0.000    5.66e+14    5.66e+14\n",
      "AgeOfVehicle_6 years                5.858e+14   1.18e+07   4.98e+07      0.000    5.86e+14    5.86e+14\n",
      "AgeOfVehicle_7 years                5.884e+14   1.17e+07   5.01e+07      0.000    5.88e+14    5.88e+14\n",
      "AgeOfVehicle_more than 7            4.329e+14   1.18e+07   3.67e+07      0.000    4.33e+14    4.33e+14\n",
      "AgeOfPolicyHolder_16 to 17          1.021e+15   2.14e+07   4.76e+07      0.000    1.02e+15    1.02e+15\n",
      "AgeOfPolicyHolder_18 to 20         -4.319e+15   3.04e+07  -1.42e+08      0.000   -4.32e+15   -4.32e+15\n",
      "AgeOfPolicyHolder_21 to 25         -1.363e+13   1.71e+07  -7.97e+05      0.000   -1.36e+13   -1.36e+13\n",
      "AgeOfPolicyHolder_26 to 30         -3.082e+14   1.31e+07  -2.35e+07      0.000   -3.08e+14   -3.08e+14\n",
      "AgeOfPolicyHolder_31 to 35         -2.092e+13   1.08e+07  -1.94e+06      0.000   -2.09e+13   -2.09e+13\n",
      "AgeOfPolicyHolder_36 to 40         -1.473e+14   8.58e+06  -1.72e+07      0.000   -1.47e+14   -1.47e+14\n",
      "AgeOfPolicyHolder_41 to 50         -6.392e+13   6.58e+06  -9.71e+06      0.000   -6.39e+13   -6.39e+13\n",
      "AgeOfPolicyHolder_51 to 65           3.45e+14   5.21e+06   6.62e+07      0.000    3.45e+14    3.45e+14\n",
      "NumberOfSuppliments_1 to 2         -1.011e+14   2.06e+06   -4.9e+07      0.000   -1.01e+14   -1.01e+14\n",
      "NumberOfSuppliments_3 to 5         -9.432e+13   2.22e+06  -4.26e+07      0.000   -9.43e+13   -9.43e+13\n",
      "NumberOfSuppliments_more than 5    -5.094e+13    1.8e+06  -2.83e+07      0.000   -5.09e+13   -5.09e+13\n",
      "AddressChange_Claim_1 year          1.363e+14   7.39e+06   1.85e+07      0.000    1.36e+14    1.36e+14\n",
      "AddressChange_Claim_2 to 3 years    2.466e+14   5.59e+06   4.41e+07      0.000    2.47e+14    2.47e+14\n",
      "AddressChange_Claim_4 to 8 years    3.986e+14   9.77e+06   4.08e+07      0.000    3.99e+14    3.99e+14\n",
      "AddressChange_Claim_under 6 months  2.348e+15    3.9e+07   6.02e+07      0.000    2.35e+15    2.35e+15\n",
      "NumberOfCars_1 vehicle              3.531e+15   6.73e+07   5.25e+07      0.000    3.53e+15    3.53e+15\n",
      "NumberOfCars_2 vehicles             3.417e+15   6.79e+07   5.03e+07      0.000    3.42e+15    3.42e+15\n",
      "NumberOfCars_3 to 4                  3.52e+15   6.74e+07   5.22e+07      0.000    3.52e+15    3.52e+15\n",
      "NumberOfCars_5 to 8                 4.046e+15   6.98e+07    5.8e+07      0.000    4.05e+15    4.05e+15\n",
      "BasePolicy_All Perils               4.353e+13   1.25e+07   3.48e+06      0.000    4.35e+13    4.35e+13\n",
      "BasePolicy_Collision                1.037e+15   1.24e+07   8.35e+07      0.000    1.04e+15    1.04e+15\n",
      "======================================================================================================\n"
     ]
    },
    {
     "name": "stderr",
     "output_type": "stream",
     "text": [
      "C:\\ProgramData\\Anaconda3\\lib\\site-packages\\statsmodels\\genmod\\families\\family.py:1014: RuntimeWarning:\n",
      "\n",
      "divide by zero encountered in log\n",
      "\n",
      "C:\\ProgramData\\Anaconda3\\lib\\site-packages\\statsmodels\\genmod\\families\\family.py:1014: RuntimeWarning:\n",
      "\n",
      "invalid value encountered in multiply\n",
      "\n"
     ]
    }
   ],
   "source": [
    "# Building a model using KNeighborsClassifier\n",
    "model = sm.GLM(y_train,sm.add_constant(X_train), family = sm.families.Binomial())\n",
    "result = model.fit()\n",
    "print (result.summary())"
   ]
  },
  {
   "cell_type": "code",
   "execution_count": 232,
   "id": "5d94d49b",
   "metadata": {},
   "outputs": [
    {
     "name": "stderr",
     "output_type": "stream",
     "text": [
      "C:\\ProgramData\\Anaconda3\\lib\\site-packages\\statsmodels\\genmod\\families\\links.py:187: RuntimeWarning:\n",
      "\n",
      "overflow encountered in exp\n",
      "\n"
     ]
    },
    {
     "data": {
      "text/plain": [
       "10802    0.0\n",
       "1241     0.0\n",
       "11368    0.0\n",
       "979      0.0\n",
       "381      0.0\n",
       "        ... \n",
       "4785     0.0\n",
       "11152    0.0\n",
       "3415     0.0\n",
       "7372     0.0\n",
       "663      0.0\n",
       "Length: 2311, dtype: float64"
      ]
     },
     "execution_count": 232,
     "metadata": {},
     "output_type": "execute_result"
    }
   ],
   "source": [
    "y_pred=result.predict(sm.add_constant(X_test))\n",
    "y_pred"
   ]
  },
  {
   "cell_type": "code",
   "execution_count": 233,
   "id": "f2e2eeb5",
   "metadata": {},
   "outputs": [
    {
     "data": {
      "text/html": [
       "<div>\n",
       "<style scoped>\n",
       "    .dataframe tbody tr th:only-of-type {\n",
       "        vertical-align: middle;\n",
       "    }\n",
       "\n",
       "    .dataframe tbody tr th {\n",
       "        vertical-align: top;\n",
       "    }\n",
       "\n",
       "    .dataframe thead th {\n",
       "        text-align: right;\n",
       "    }\n",
       "</style>\n",
       "<table border=\"1\" class=\"dataframe\">\n",
       "  <thead>\n",
       "    <tr style=\"text-align: right;\">\n",
       "      <th></th>\n",
       "      <th>Target</th>\n",
       "      <th>Target_Prob</th>\n",
       "    </tr>\n",
       "  </thead>\n",
       "  <tbody>\n",
       "    <tr>\n",
       "      <th>10802</th>\n",
       "      <td>0</td>\n",
       "      <td>0.0</td>\n",
       "    </tr>\n",
       "    <tr>\n",
       "      <th>1241</th>\n",
       "      <td>0</td>\n",
       "      <td>0.0</td>\n",
       "    </tr>\n",
       "    <tr>\n",
       "      <th>11368</th>\n",
       "      <td>0</td>\n",
       "      <td>0.0</td>\n",
       "    </tr>\n",
       "    <tr>\n",
       "      <th>979</th>\n",
       "      <td>0</td>\n",
       "      <td>0.0</td>\n",
       "    </tr>\n",
       "    <tr>\n",
       "      <th>381</th>\n",
       "      <td>0</td>\n",
       "      <td>0.0</td>\n",
       "    </tr>\n",
       "  </tbody>\n",
       "</table>\n",
       "</div>"
      ],
      "text/plain": [
       "       Target  Target_Prob\n",
       "10802       0          0.0\n",
       "1241        0          0.0\n",
       "11368       0          0.0\n",
       "979         0          0.0\n",
       "381         0          0.0"
      ]
     },
     "execution_count": 233,
     "metadata": {},
     "output_type": "execute_result"
    }
   ],
   "source": [
    "y_pred_final=pd.DataFrame({'Target':y_test.values,'Target_Prob':y_pred})\n",
    "y_pred_final.head()"
   ]
  },
  {
   "cell_type": "code",
   "execution_count": 234,
   "id": "cf96b0c7",
   "metadata": {},
   "outputs": [
    {
     "data": {
      "text/html": [
       "<div>\n",
       "<style scoped>\n",
       "    .dataframe tbody tr th:only-of-type {\n",
       "        vertical-align: middle;\n",
       "    }\n",
       "\n",
       "    .dataframe tbody tr th {\n",
       "        vertical-align: top;\n",
       "    }\n",
       "\n",
       "    .dataframe thead th {\n",
       "        text-align: right;\n",
       "    }\n",
       "</style>\n",
       "<table border=\"1\" class=\"dataframe\">\n",
       "  <thead>\n",
       "    <tr style=\"text-align: right;\">\n",
       "      <th></th>\n",
       "      <th>Target</th>\n",
       "      <th>Target_Prob</th>\n",
       "      <th>predicted</th>\n",
       "    </tr>\n",
       "  </thead>\n",
       "  <tbody>\n",
       "    <tr>\n",
       "      <th>10802</th>\n",
       "      <td>0</td>\n",
       "      <td>0.0</td>\n",
       "      <td>0</td>\n",
       "    </tr>\n",
       "    <tr>\n",
       "      <th>1241</th>\n",
       "      <td>0</td>\n",
       "      <td>0.0</td>\n",
       "      <td>0</td>\n",
       "    </tr>\n",
       "    <tr>\n",
       "      <th>11368</th>\n",
       "      <td>0</td>\n",
       "      <td>0.0</td>\n",
       "      <td>0</td>\n",
       "    </tr>\n",
       "    <tr>\n",
       "      <th>979</th>\n",
       "      <td>0</td>\n",
       "      <td>0.0</td>\n",
       "      <td>0</td>\n",
       "    </tr>\n",
       "    <tr>\n",
       "      <th>381</th>\n",
       "      <td>0</td>\n",
       "      <td>0.0</td>\n",
       "      <td>0</td>\n",
       "    </tr>\n",
       "    <tr>\n",
       "      <th>...</th>\n",
       "      <td>...</td>\n",
       "      <td>...</td>\n",
       "      <td>...</td>\n",
       "    </tr>\n",
       "    <tr>\n",
       "      <th>4785</th>\n",
       "      <td>0</td>\n",
       "      <td>0.0</td>\n",
       "      <td>0</td>\n",
       "    </tr>\n",
       "    <tr>\n",
       "      <th>11152</th>\n",
       "      <td>0</td>\n",
       "      <td>0.0</td>\n",
       "      <td>0</td>\n",
       "    </tr>\n",
       "    <tr>\n",
       "      <th>3415</th>\n",
       "      <td>0</td>\n",
       "      <td>0.0</td>\n",
       "      <td>0</td>\n",
       "    </tr>\n",
       "    <tr>\n",
       "      <th>7372</th>\n",
       "      <td>0</td>\n",
       "      <td>0.0</td>\n",
       "      <td>0</td>\n",
       "    </tr>\n",
       "    <tr>\n",
       "      <th>663</th>\n",
       "      <td>0</td>\n",
       "      <td>0.0</td>\n",
       "      <td>0</td>\n",
       "    </tr>\n",
       "  </tbody>\n",
       "</table>\n",
       "<p>2311 rows × 3 columns</p>\n",
       "</div>"
      ],
      "text/plain": [
       "       Target  Target_Prob  predicted\n",
       "10802       0          0.0          0\n",
       "1241        0          0.0          0\n",
       "11368       0          0.0          0\n",
       "979         0          0.0          0\n",
       "381         0          0.0          0\n",
       "...       ...          ...        ...\n",
       "4785        0          0.0          0\n",
       "11152       0          0.0          0\n",
       "3415        0          0.0          0\n",
       "7372        0          0.0          0\n",
       "663         0          0.0          0\n",
       "\n",
       "[2311 rows x 3 columns]"
      ]
     },
     "execution_count": 234,
     "metadata": {},
     "output_type": "execute_result"
    }
   ],
   "source": [
    "y_pred_final['predicted']= y_pred_final.Target_Prob.map(lambda x:1 if x >0.5 else 0)\n",
    "y_pred_final"
   ]
  },
  {
   "cell_type": "code",
   "execution_count": 251,
   "id": "397669aa",
   "metadata": {},
   "outputs": [
    {
     "data": {
      "text/plain": [
       "10802    0\n",
       "1241     0\n",
       "11368    0\n",
       "979      0\n",
       "381      0\n",
       "        ..\n",
       "4785     0\n",
       "11152    0\n",
       "3415     0\n",
       "7372     0\n",
       "663      0\n",
       "Name: predicted, Length: 2311, dtype: int64"
      ]
     },
     "execution_count": 251,
     "metadata": {},
     "output_type": "execute_result"
    }
   ],
   "source": [
    "y_pred_val = y_pred_final[\"predicted\"]\n",
    "y_pred_val"
   ]
  },
  {
   "cell_type": "code",
   "execution_count": 273,
   "id": "aefa6100",
   "metadata": {},
   "outputs": [
    {
     "name": "stdout",
     "output_type": "stream",
     "text": [
      "AUC: 0.5210080381604015\n",
      "Confusion Matrix:\n",
      " [[2155   24]\n",
      " [ 125    7]]\n",
      "Accuracy: 0.9355257464301169\n",
      "Precision: 0.22580645161290322\n",
      "Recall: 0.05303030303030303\n",
      "f1: 0.08588957055214724\n"
     ]
    }
   ],
   "source": [
    "from sklearn import metrics\n",
    "# Calculate accuracy, precision, recall, f1-score, and kappa score\n",
    "acc = metrics.accuracy_score(y_test, y_pred_val)\n",
    "prec = metrics.precision_score(y_test, y_pred_val)\n",
    "rec = metrics.recall_score(y_test, y_pred_val)\n",
    "f1 = metrics.f1_score(y_test, y_pred_val)\n",
    "\n",
    "# Calculate area under curve (AUC)\n",
    "y_pred_proba = y_pred_val\n",
    "fpr, tpr, _ = metrics.roc_curve(y_test, y_pred_proba)\n",
    "auc = metrics.roc_auc_score(y_test, y_pred_proba)\n",
    "print(\"AUC:\",auc)\n",
    "# Display confussion matrix\n",
    "cm = metrics.confusion_matrix(y_test, y_pred_val)\n",
    "print (\"Confusion Matrix:\\n\", cm)\n",
    "print (\"Accuracy:\",acc)\n",
    "print(\"Precision:\",prec)\n",
    "print (\"Recall:\",rec)\n",
    "print (\"f1:\",f1)\n",
    "A=cm[0,0]\n",
    "B=cm[0,0]+cm[1,0]\n",
    "truepr=A/B\n",
    "C=cm[1,1]\n",
    "D=cm[1,1]+cm[0,1]\n",
    "falsepr=1-(C/D)"
   ]
  },
  {
   "cell_type": "code",
   "execution_count": 238,
   "id": "4545214b",
   "metadata": {},
   "outputs": [
    {
     "data": {
      "image/png": "[encoded data removed]",
      "text/plain": [
       "<Figure size 432x288 with 2 Axes>"
      ]
     },
     "metadata": {
      "needs_background": "light"
     },
     "output_type": "display_data"
    }
   ],
   "source": [
    "import seaborn as sns\n",
    "\n",
    "ax = sns.heatmap(cm, annot=True, cmap='Greens')\n",
    "\n",
    "ax.set_title('Confusion Matrix with labels\\n\\n');\n",
    "ax.set_xlabel('\\nPredicted Values')\n",
    "ax.set_ylabel('Actual Values');\n",
    "\n",
    "## Ticket labels - List must be in alphabetical order\n",
    "ax.xaxis.set_ticklabels(['False','True'])\n",
    "ax.yaxis.set_ticklabels(['False','True'])\n",
    "\n",
    "## Display the visualization of the Confusion Matrix.\n",
    "plt.show()  "
   ]
  },
  {
   "cell_type": "markdown",
   "id": "aabb59fe",
   "metadata": {},
   "source": [
    "## DECISION TREE CLASSIFIER"
   ]
  },
  {
   "cell_type": "markdown",
   "id": "99ccdfca",
   "metadata": {},
   "source": [
    "A $\\textbf{DECISION TREE}$ is a simple representation for\n",
    "classifying examples. It is a $\\textbf{SUPERVISED MACHINE LEARNING}$ where the data is continuously\n",
    "split according to a certain parameter.$\\\\$\n",
    "$\\textbf{ADVANTAGES}$:$\\\\\\\\$\n",
    "• Inexpensive to construct.$\\\\\\\\\\\\$\n",
    "• Extremely fast at classifying unknown records.$\\\\\\\\\\\\\\\\$\n",
    "• Easy to interpret for small-sized trees$\\\\\\\\\\\\\\\\\\\\$\n",
    "• Accuracy comparable to other classification techniques for many simple data sets.$\\\\\\\\\\\\\\\\\\\\\\\\$\n",
    "• Excludes unimportant features."
   ]
  },
  {
   "cell_type": "markdown",
   "id": "96891e12",
   "metadata": {},
   "source": [
    "$\\textbf{DISADVANTAGES}$$\\\\$\n",
    "• Easy to over-fit.$\\\\\\\\$\n",
    "• Decision Boundary restricted to being parallel to attribute axes.$\\\\\\\\\\\\$\n",
    "• Decision tree models are often biased toward splits on features having a large number of\n",
    "levels.$\\\\\\\\\\\\\\\\$\n",
    "• Small changes in the training data can result in large changes to decision logic.$\\\\\\\\\\\\\\\\\\\\$\n",
    "• Large trees can be difficult to interpret and the decisions they make may seem counter\n",
    "intuitive."
   ]
  },
  {
   "cell_type": "code",
   "execution_count": 239,
   "id": "467b52de",
   "metadata": {},
   "outputs": [
    {
     "name": "stdout",
     "output_type": "stream",
     "text": [
      "Accuracy: 0.8836001730852445\n",
      "Precision: 0.14871794871794872\n",
      "Recall: 0.2196969696969697\n",
      "F1 Score: 0.17737003058103976\n",
      "Area Under Curve: 0.5717576174781315\n",
      "Confusion Matrix:\n",
      " [[2013  166]\n",
      " [ 103   29]]\n"
     ]
    }
   ],
   "source": [
    "from sklearn import tree\n",
    "\n",
    "# Building Decision Tree model \n",
    "clf = tree.DecisionTreeClassifier(random_state=0)\n",
    "clf.fit(X_train, y_train)\n",
    "\n",
    "# Evaluate Model\n",
    "clf_eval = evaluate_model(clf, X_test, y_test)\n",
    "\n",
    "# Print result\n",
    "print('Accuracy:', clf_eval['acc'])\n",
    "print('Precision:', clf_eval['prec'])\n",
    "print('Recall:', clf_eval['rec'])\n",
    "print('F1 Score:', clf_eval['f1'])\n",
    "print('Area Under Curve:', clf_eval['auc'])\n",
    "print('Confusion Matrix:\\n', clf_eval['cm'])"
   ]
  },
  {
   "cell_type": "markdown",
   "id": "0733a9de",
   "metadata": {},
   "source": [
    "After Applying the $\\textbf{DECISION CLASSIFIER}$ on our dataset, we get the following result:"
   ]
  },
  {
   "cell_type": "code",
   "execution_count": 240,
   "id": "d02aacc9",
   "metadata": {},
   "outputs": [
    {
     "data": {
      "image/png": "[encoded data removed]",
      "text/plain": [
       "<Figure size 432x288 with 2 Axes>"
      ]
     },
     "metadata": {
      "needs_background": "light"
     },
     "output_type": "display_data"
    }
   ],
   "source": [
    "import seaborn as sns\n",
    "\n",
    "ax = sns.heatmap(clf_eval['cm'], annot=True, cmap='Greens')\n",
    "\n",
    "ax.set_title('Confusion Matrix with labels\\n\\n');\n",
    "ax.set_xlabel('\\nPredicted Values')\n",
    "ax.set_ylabel('Actual Values');\n",
    "\n",
    "## Ticket labels - List must be in alphabetical order\n",
    "ax.xaxis.set_ticklabels(['Low risk','High risk'])\n",
    "ax.yaxis.set_ticklabels(['Low risk','High risk'])\n",
    "\n",
    "## Display the visualization of the Confusion Matrix.\n",
    "plt.show() "
   ]
  },
  {
   "cell_type": "markdown",
   "id": "84cd16ec",
   "metadata": {},
   "source": [
    "## RANDOM FOREST CLASSIFIER"
   ]
  },
  {
   "cell_type": "markdown",
   "id": "6765d95d",
   "metadata": {},
   "source": [
    "It is an $\\textbf{ENSEMBLE TREE-BASED lEARNING ALGORITHM}$.$\\\\$ \n",
    "The $\\textbf{RANDOM FOREST CLASSIFIER}$ is a set of $\\textbf{DECISION-TREE}$ from $\\textbf{RANDOMLY}$ selected $\\textbf{SUBSET}$ of\n",
    "training set. It aggregates the votes from different decision trees to decide the final class of\n",
    "the test object.$\\\\\\\\$\n",
    "This classifier also use $\\textbf{“MAJORITY VOTING RULE”}$ to assign a feature vector to a\n",
    "particular class.$\\\\\\\\\\\\$\n",
    "$\\textbf{ADVANTAGES}$:$\\\\\\\\\\\\\\\\$\n",
    "• It is one of the most accurate learning algorithms available. For many data sets, it produces\n",
    "a highly accurate classifier.$\\\\\\\\\\\\\\\\\\\\$\n",
    "• It runs efficiently on large databases.$\\\\\\\\\\\\\\\\\\\\\\\\$\n",
    "• It can handle thousands of input variables without variable deletion.$\\\\\\\\\\\\\\\\\\\\\\\\\\\\$\n",
    "• It gives estimates of what variables that are important in the classification.$\\\\\\\\\\\\\\\\\\\\\\\\\\\\\\\\$\n",
    "• It generates an internal unbiased estimate of the generalization error as the forest building\n",
    "progresses.$\\\\\\\\\\\\\\\\\\\\\\\\\\\\\\\\\\\\$\n",
    "• It has an effective method for estimating missing data and maintains accuracy when a large\n",
    "proportion of the data are missing.$\\\\\\\\\\\\\\\\\\\\\\\\\\\\\\\\\\\\\\\\$"
   ]
  },
  {
   "cell_type": "markdown",
   "id": "26c222b1",
   "metadata": {},
   "source": [
    "$\\textbf{DISADVANTAGES}$$\\\\$\n",
    "• Random forests have been observed to overfit for some datasets with noisy\n",
    "classification/regression tasks.$\\\\\\\\$\n",
    "• For data including categorical variables with different number of levels, random forests are\n",
    "biased in favour of those attributes with more levels. Therefore, the variable importance\n",
    "scores from random forest are not reliable for this type of data."
   ]
  },
  {
   "cell_type": "code",
   "execution_count": 272,
   "id": "da8ec70c",
   "metadata": {},
   "outputs": [
    {
     "name": "stdout",
     "output_type": "stream",
     "text": [
      "Accuracy: 0.9437472955430549\n",
      "Precision: 0.625\n",
      "Recall: 0.03787878787878788\n",
      "F1 Score: 0.07142857142857144\n",
      "Area Under Curve: 0.7839049049466673\n",
      "Confusion Matrix:\n",
      " [[2176    3]\n",
      " [ 127    5]]\n"
     ]
    }
   ],
   "source": [
    "from sklearn.ensemble import RandomForestClassifier\n",
    "  \n",
    "# Creating a Random Forest Model \n",
    "rf = RandomForestClassifier(n_jobs=2,random_state=0)\n",
    "rf.fit(X_train, y_train)\n",
    "\n",
    "# Evaluate Model\n",
    "rf_eval = evaluate_model(rf, X_test, y_test)\n",
    "\n",
    "# Print result\n",
    "print('Accuracy:', rf_eval['acc'])\n",
    "print('Precision:', rf_eval['prec'])\n",
    "print('Recall:', rf_eval['rec'])\n",
    "print('F1 Score:', rf_eval['f1'])\n",
    "print('Area Under Curve:', rf_eval['auc'])\n",
    "print('Confusion Matrix:\\n', rf_eval['cm'])"
   ]
  },
  {
   "cell_type": "markdown",
   "id": "55828395",
   "metadata": {},
   "source": [
    "After Applying the $\\textbf{RANDOM FOREST}$ classifier on our dataset, we get the following result:"
   ]
  },
  {
   "cell_type": "code",
   "execution_count": 244,
   "id": "13ecbbce",
   "metadata": {},
   "outputs": [
    {
     "data": {
      "image/png": "[encoded data removed]",
      "text/plain": [
       "<Figure size 432x288 with 2 Axes>"
      ]
     },
     "metadata": {
      "needs_background": "light"
     },
     "output_type": "display_data"
    }
   ],
   "source": [
    "import seaborn as sns\n",
    "\n",
    "ax = sns.heatmap(rf_eval['cm'], annot=True, cmap='Greens')\n",
    "\n",
    "ax.set_title('Confusion Matrix with labels\\n\\n');\n",
    "ax.set_xlabel('\\nPredicted Values')\n",
    "ax.set_ylabel('Actual Values');\n",
    "\n",
    "## Ticket labels - List must be in alphabetical order\n",
    "ax.xaxis.set_ticklabels(['Low risk','High risk'])\n",
    "ax.yaxis.set_ticklabels(['Low risk','High risk'])\n",
    "\n",
    "## Display the visualization of the Confusion Matrix.\n",
    "plt.show() "
   ]
  },
  {
   "cell_type": "markdown",
   "id": "0e2f3c16",
   "metadata": {},
   "source": [
    "## LINEAR DISCRIMINANT CLASSIFIER"
   ]
  },
  {
   "cell_type": "markdown",
   "id": "97f4e431",
   "metadata": {},
   "source": [
    "$\\textbf{LINEAR DISCRIMINANT ANALYSIS}$ is a\n",
    "$\\textbf{DIMENTIONALITY REDUCTION TECHNIQUE}$ that is commonly used for $\\textbf{SUPERVISED CLASSIFICATION}$\n",
    "problems. $\\\\$\n",
    "It is used for modelling differences in groups i.e. $\\textbf{SEPERATING}$ $\\textbf{2}$ or $\\textbf{MORE}$ $\\textbf{CLASSES}$.$\\\\\\\\$\n",
    "It is used to project the features in higher dimension space into a lower dimension space.$\\\\\\\\\\\\$\n",
    "For example, we have two classes and we need to separate them efficiently. Classes can\n",
    "have multiple features. Using only a single feature to classify them may result in some\n",
    "overlapping as shown in the below figure. So, we will keep on increasing the number of\n",
    "features for proper classification.$\\\\\\\\\\\\\\\\$\n",
    "Two criteria are used by $\\textbf{LDA}$$\\\\\\\\\\\\\\\\\\\\$:\n",
    "i) Maximize the distance between means of the two classes.$\\\\\\\\\\\\\\\\\\\\\\\\$\n",
    "ii) Minimize the variation within each class.$\\\\\\\\\\\\\\\\\\\\\\\\\\\\$\n",
    "$\\textbf{ADVANTAGES:}$$\\\\\\\\\\\\\\\\\\\\\\\\\\\\\\\\$\n",
    "i) It is simple, fast and portable algorithm."
   ]
  },
  {
   "cell_type": "markdown",
   "id": "426d372d",
   "metadata": {},
   "source": [
    "$\\textbf{DISADVANTAGES}$$\\\\$\n",
    "i) It requires normal distribution assumption on features/predictors.$\\\\\\\\$\n",
    "ii) Sometimes not good for few categories variables.$\\\\\\\\\\\\$"
   ]
  },
  {
   "cell_type": "code",
   "execution_count": 253,
   "id": "cda96e01",
   "metadata": {},
   "outputs": [
    {
     "name": "stdout",
     "output_type": "stream",
     "text": [
      "Accuracy: 0.9402855906533968\n",
      "Precision: 0.25\n",
      "Recall: 0.022727272727272728\n",
      "F1 Score: 0.04166666666666667\n",
      "Area Under Curve: 0.7721814287899649\n",
      "Confusion Matrix:\n",
      " [[2170    9]\n",
      " [ 129    3]]\n"
     ]
    }
   ],
   "source": [
    "from sklearn.discriminant_analysis import LinearDiscriminantAnalysis\n",
    "  \n",
    "# Creating a Linear Discriminat Classifier \n",
    "lda = LinearDiscriminantAnalysis(n_components=1)\n",
    "lda.fit(X_train, y_train)\n",
    "\n",
    "\n",
    "# Evaluate Model\n",
    "lda_eval = evaluate_model(lda, X_test, y_test)\n",
    "\n",
    "# Print result\n",
    "print('Accuracy:', lda_eval['acc'])\n",
    "print('Precision:', lda_eval['prec'])\n",
    "print('Recall:', lda_eval['rec'])\n",
    "print('F1 Score:', lda_eval['f1'])\n",
    "print('Area Under Curve:', lda_eval['auc'])\n",
    "print('Confusion Matrix:\\n', lda_eval['cm'])"
   ]
  },
  {
   "cell_type": "markdown",
   "id": "ab818346",
   "metadata": {},
   "source": [
    "After Applying the $\\textbf{LINEAR DISCRIMINANT}$ classifier on our dataset, we get the following result"
   ]
  },
  {
   "cell_type": "code",
   "execution_count": 254,
   "id": "c38c29da",
   "metadata": {},
   "outputs": [
    {
     "data": {
      "image/png": "[encoded data removed]",
      "text/plain": [
       "<Figure size 432x288 with 2 Axes>"
      ]
     },
     "metadata": {
      "needs_background": "light"
     },
     "output_type": "display_data"
    }
   ],
   "source": [
    "import seaborn as sns\n",
    "\n",
    "ax = sns.heatmap(lda_eval['cm'], annot=True, cmap='Greens')\n",
    "\n",
    "ax.set_title('Confusion Matrix with labels\\n\\n');\n",
    "ax.set_xlabel('\\nPredicted Values')\n",
    "ax.set_ylabel('Actual Values');\n",
    "\n",
    "## Ticket labels - List must be in alphabetical order\n",
    "ax.xaxis.set_ticklabels(['Low risk','High risk'])\n",
    "ax.yaxis.set_ticklabels(['Low risk','High risk'])\n",
    "\n",
    "## Display the visualization of the Confusion Matrix.\n",
    "plt.show() "
   ]
  },
  {
   "cell_type": "markdown",
   "id": "447b8b80",
   "metadata": {},
   "source": [
    "## COMPARE ACCURACIES, AUC, RECALL AND F1 VALUES"
   ]
  },
  {
   "cell_type": "code",
   "execution_count": 271,
   "id": "3b03268c",
   "metadata": {},
   "outputs": [
    {
     "data": {
      "image/png": "[encoded data removed]",
      "text/plain": [
       "<Figure size 1008x504 with 2 Axes>"
      ]
     },
     "metadata": {},
     "output_type": "display_data"
    }
   ],
   "source": [
    "# Intitialize figure with 4 plots\n",
    "fig, (ax1, ax2) = plt.subplots(1, 2)\n",
    "fig.suptitle('Model Comparison', fontsize=16, fontweight='bold')\n",
    "fig.set_figheight(7)\n",
    "fig.set_figwidth(14)\n",
    "fig.set_facecolor('white')\n",
    "\n",
    "# First plot\n",
    "## set bar size\n",
    "barWidth = 0.2\n",
    "clf_score = [clf_eval['acc'], clf_eval['prec'], clf_eval['rec'], clf_eval['f1']]\n",
    "lg_score = [metrics.accuracy_score(y_test, y_pred_val), metrics.precision_score(y_test, y_pred_val), metrics.recall_score(y_test, y_pred_val), metrics.f1_score(y_test, y_pred_val)]\n",
    "rf_score = [rf_eval['acc'], rf_eval['prec'], rf_eval['rec'], rf_eval['f1']]\n",
    "lda_score = [lda_eval['acc'], lda_eval['prec'], lda_eval['rec'], lda_eval['f1']]\n",
    "## Set position of bar on X axis\n",
    "r1 = np.arange(len(clf_score))\n",
    "r2 = [x + barWidth for x in r1]\n",
    "\n",
    "\n",
    "## Make the plot\n",
    "ax1.bar(r1, clf_score, width=barWidth, edgecolor='white', label='Decision Tree')\n",
    "ax1.bar(r2, knn_score, width=barWidth, edgecolor='white', label='Logistic Classifier')\n",
    "ax1.bar(r2, rf_score, width=barWidth, edgecolor='white', label='Random Forest')\n",
    "ax1.bar(r2, lda_score, width=barWidth, edgecolor='white', label='Linear Discriminant Analysis')\n",
    "\n",
    "## Configure x and y axis\n",
    "ax1.set_xlabel('Metrics', fontweight='bold')\n",
    "labels = ['Accuracy', 'Precision', 'Recall', 'F1']\n",
    "ax1.set_xticks([r + (barWidth * 1.5) for r in range(len(clf_score))], )\n",
    "ax1.set_xticklabels(labels)\n",
    "ax1.set_ylabel('Score', fontweight='bold')\n",
    "ax1.set_ylim(0, 1)\n",
    "\n",
    "## Create legend & title\n",
    "ax1.set_title('Evaluation Metrics', fontsize=14, fontweight='bold')\n",
    "ax1.legend()\n",
    "\n",
    "# Second plot\n",
    "# Comparing ROC Curve\n",
    "ax2.plot(clf_eval['fpr'], clf_eval['tpr'], label='Decision Tree, auc = {:0.5f}'.format(clf_eval['auc']))\n",
    "ax2.plot(falsepr, truepr, label='Logistic Classifier, auc = {:0.5f}'.format(metrics.roc_auc_score(y_test, y_pred_proba)))\n",
    "ax2.plot(rf_eval['fpr'], rf_eval['tpr'], label='Random Forest, auc = {:0.5f}'.format(rf_eval['auc']))\n",
    "ax2.plot(lda_eval['fpr'], lda_eval['tpr'], label='Linear Discriminant Analysis, auc = {:0.5f}'.format(lda_eval['auc']))\n",
    "\n",
    "## Configure x and y axis\n",
    "ax2.set_xlabel('False Positive Rate', fontweight='bold')\n",
    "ax2.set_ylabel('True Positive Rate', fontweight='bold')\n",
    "\n",
    "\n",
    "## Create legend & title\n",
    "ax2.set_title('ROC Curve', fontsize=14, fontweight='bold')\n",
    "ax2.legend(loc=4)\n",
    "\n",
    "plt.show()"
   ]
  },
  {
   "cell_type": "markdown",
   "id": "98b6b03a",
   "metadata": {},
   "source": [
    "# CONCLUSION"
   ]
  },
  {
   "cell_type": "markdown",
   "id": "8bad9242",
   "metadata": {},
   "source": [
    "After apply the classification methods i.e. $\\textbf{LOGISTIC}$, $\\textbf{DECISION TREE}$, $\\textbf{RANDOM FOREST}$ AND\n",
    "$\\textbf{LINEAR DISCRIMNINANT CLASSIFIER}$ on the train data, we found that in terms of\n",
    "$\\textbf{ACCURACY}$, $\\textbf{RANDOM FOREST}$ is the $\\textbf{BEST}$ classifier for detection Insurance Claim Fraud with\n",
    "$\\textbf{94.37}$% Accuracy.$\\\\$\n",
    " And in terms of $\\textbf{PRECISION}$, also $\\textbf{RANDOM FOREST}$ is the $\\textbf{BEST}$ classifier for detection\n",
    "Insurance Claim Fraud with $\\textbf{62.5}$% Precision with respect to other 3 classifiers.$\\\\\\\\$\n",
    " And from the above graph, using the RANDOM FOREST Classifier, we can see\n",
    "$\\textbf{AUC}$ score is $\\textbf{0.7839}$. $\\\\\\\\\\\\$\n",
    "So, for our dataset and for our objective of detection in Insurance Claim\n",
    "Fraud, $\\textbf{RANDOM FOREST}$ is the Best Classifier. So, we conclude the project here."
   ]
  }
 ],
 "metadata": {
  "kernelspec": {
   "display_name": "Python 3 (ipykernel)",
   "language": "python",
   "name": "python3"
  },
  "language_info": {
   "codemirror_mode": {
    "name": "ipython",
    "version": 3
   },
   "file_extension": ".py",
   "mimetype": "text/x-python",
   "name": "python",
   "nbconvert_exporter": "python",
   "pygments_lexer": "ipython3",
   "version": "3.9.12"
  }
 },
 "nbformat": 4,
 "nbformat_minor": 5
}
